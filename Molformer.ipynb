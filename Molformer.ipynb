{
 "cells": [
  {
   "cell_type": "code",
   "execution_count": 8,
   "metadata": {},
   "outputs": [],
   "source": [
    "import numpy as np\n",
    "from src.datasets.tensor_storage import TensorStorage\n",
    "from tqdm import tqdm\n",
    "from sklearn.decomposition import IncrementalPCA\n",
    "import torch\n",
    "import pandas as pd\n",
    "import os"
   ]
  },
  {
   "cell_type": "code",
   "execution_count": 2,
   "metadata": {},
   "outputs": [
    {
     "data": {
      "text/plain": [
       "<torch._C.Generator at 0x7fda17cc3110>"
      ]
     },
     "execution_count": 2,
     "metadata": {},
     "output_type": "execute_result"
    }
   ],
   "source": [
    "np.random.seed(42)\n",
    "torch.manual_seed(42)"
   ]
  },
  {
   "cell_type": "code",
   "execution_count": 5,
   "metadata": {},
   "outputs": [],
   "source": [
    "store = TensorStorage(\"storages/molformer_dgsm\")"
   ]
  },
  {
   "cell_type": "code",
   "execution_count": 6,
   "metadata": {},
   "outputs": [
    {
     "data": {
      "text/plain": [
       "TensorStorage at 'storages/molformer_dgsm'\n",
       "Description: \n",
       "Number of tensors: 1576904\n",
       "Chunk size: 6.00 MB\n",
       "Total storage size: 4619.84 MB\n",
       "Tensor shape: [768]"
      ]
     },
     "execution_count": 6,
     "metadata": {},
     "output_type": "execute_result"
    }
   ],
   "source": [
    "store"
   ]
  },
  {
   "cell_type": "code",
   "execution_count": 7,
   "metadata": {},
   "outputs": [
    {
     "data": {
      "text/plain": [
       "array([ 1.39658916e+00, -3.77277374e-01, -5.93409121e-01,  4.68972832e-01,\n",
       "       -9.36067760e-01, -2.75446653e-01, -2.84941941e-01, -4.63555343e-02,\n",
       "       -8.73108387e-01,  8.54577124e-02, -8.31386268e-01,  3.72124314e-01,\n",
       "        8.14772427e-01,  3.72868814e-02, -5.65502822e-01,  8.63719940e-01,\n",
       "        3.12404424e-01,  4.66239840e-01, -9.22818601e-01, -5.93148053e-01,\n",
       "       -2.77471453e-01,  3.38346481e-01, -3.94446915e-03, -5.60185552e-01,\n",
       "       -5.35604537e-01,  6.90113753e-04, -2.70525068e-01,  9.71472442e-01,\n",
       "       -4.02895242e-01,  6.56837761e-01, -6.71515942e-01, -6.93513393e-01,\n",
       "        4.01010394e-01,  5.93517005e-01,  5.70327580e-01,  4.18171406e-01,\n",
       "        3.10023218e-01,  2.53105704e-02,  3.60354066e-01, -9.23711061e-01,\n",
       "        8.81871521e-01, -8.07749555e-02, -1.64673254e-01, -6.06982529e-01,\n",
       "       -1.16132295e+00,  1.91671896e+00, -1.37960386e+00,  1.41151398e-01,\n",
       "       -2.81311333e-01,  1.24079585e-01,  4.10990834e-01,  5.19646704e-01,\n",
       "        1.74448639e-02, -3.97142440e-01, -4.47468162e-01, -4.12008673e-01,\n",
       "       -2.56063849e-01,  2.57543355e-01, -1.20585449e-01,  3.40821177e-01,\n",
       "        4.61249471e-01,  1.09862971e+00, -1.14803052e+00,  4.94263679e-01,\n",
       "        5.12195230e-02, -6.81249678e-01, -4.43287455e-02,  1.34789467e+00,\n",
       "       -3.99301678e-01,  7.29108810e-01,  4.78902221e-01, -1.98252356e+00,\n",
       "       -1.02563488e+00, -5.17715037e-01, -1.59400272e+00,  3.32732163e-02,\n",
       "       -1.38549477e-01,  6.33381069e-01, -4.59260017e-01,  5.55183351e-01,\n",
       "       -9.97112036e-01,  4.24086928e-01, -6.51366532e-01, -2.14083237e-03,\n",
       "       -5.99358976e-01, -1.66171208e-01,  3.63127232e-01, -5.27372777e-01,\n",
       "        2.74405152e-01,  1.10606921e+00, -2.53130466e-01,  7.18615234e-01,\n",
       "        1.04003382e+00,  6.02683544e-01, -1.82188287e-01, -3.83471251e-01,\n",
       "        5.54559767e-01,  2.27960870e-01, -5.21422684e-01, -7.17604578e-01,\n",
       "        8.16842854e-01, -1.15192853e-01,  3.92907530e-01,  4.24141735e-01,\n",
       "       -1.22862053e+00,  6.88794136e-01, -3.31323057e-01, -7.07237720e-01,\n",
       "        3.60183239e-01, -1.38503551e+00,  1.10434246e+00,  2.14657620e-01,\n",
       "       -1.40597716e-01,  1.79588571e-01,  1.56758860e-01,  5.83078623e-01,\n",
       "       -2.55335480e-01, -6.01784706e-01, -4.51386601e-01,  1.89989343e-01,\n",
       "       -5.50155342e-02, -7.46905863e-01,  2.52331495e-01, -3.77495885e-01,\n",
       "       -4.74609643e-01,  3.77032608e-01,  4.05255646e-01,  6.47435486e-01,\n",
       "        4.96123791e-01,  3.27807963e-01,  1.23752129e+00,  5.88497341e-01,\n",
       "       -3.00237507e-01,  2.18100503e-01,  4.22770590e-01, -2.48707235e-01,\n",
       "        2.59756416e-01, -1.56266257e-01,  6.54563084e-02, -2.36594558e-01,\n",
       "       -5.23751438e-01,  1.40705511e-01,  4.95090872e-01, -1.99608669e-01,\n",
       "       -8.36103618e-01, -8.21661472e-01, -5.21580242e-02,  2.54118890e-01,\n",
       "       -1.74247980e-01, -1.92119503e+00, -1.01995051e+00, -4.30983812e-01,\n",
       "        1.09907782e+00, -4.31857347e-01,  6.49072230e-01, -2.29186729e-01,\n",
       "       -9.55208957e-01,  6.43515766e-01, -2.94768866e-02, -1.04480171e+00,\n",
       "       -7.39924669e-01,  2.71428317e-01,  9.09714177e-02, -8.22248042e-01,\n",
       "        9.35232937e-02, -4.13205266e-01, -4.06041533e-01,  3.72805595e-01,\n",
       "        1.34464705e+00, -2.32879534e-01, -1.32782233e+00,  2.06998095e-01,\n",
       "       -2.76468307e-01, -4.29994911e-01,  5.88744581e-01,  1.14540732e+00,\n",
       "        5.70323348e-01,  7.78253734e-01, -4.71822828e-01,  2.47555509e-01,\n",
       "        1.32144606e+00, -1.09199621e-01, -8.38211834e-01,  1.21067071e+00,\n",
       "       -2.30478048e-02, -2.47111574e-01, -7.61408508e-01, -6.22746289e-01,\n",
       "       -1.03611612e+00, -1.99952409e-01, -9.95689213e-01, -6.31136820e-02,\n",
       "       -4.49501961e-01, -1.16129327e+00,  1.15531528e+00, -2.26186112e-01,\n",
       "       -7.38231763e-02,  3.09749335e-01, -8.56713474e-01, -7.04829693e-01,\n",
       "       -4.46189493e-01, -1.39060825e-01, -6.48274124e-01, -4.35707659e-01,\n",
       "       -1.41317800e-01,  8.95645201e-01,  1.45089880e-01,  4.27150100e-01,\n",
       "       -5.28969347e-01,  7.20518410e-01,  7.18936145e-01, -6.62102163e-01,\n",
       "       -1.29152811e+00, -8.17284763e-01, -3.17107350e-01,  6.51569292e-02,\n",
       "        3.65352720e-01, -1.79211304e-01,  8.60628426e-01, -1.05854118e+00,\n",
       "       -4.06418920e-01,  2.72818506e-01,  6.39716506e-01,  6.69675648e-01,\n",
       "        9.08807099e-01,  9.06622112e-01, -1.36100752e-02, -2.92349726e-01,\n",
       "       -4.17180657e-01,  8.61110449e-01, -5.22955000e-01,  1.97789192e-01,\n",
       "       -2.05720440e-01, -1.76567876e+00, -6.07220642e-02,  5.83167374e-01,\n",
       "       -6.13460578e-02,  1.64236546e-01,  6.14569366e-01, -4.22554374e-01,\n",
       "        4.86264557e-01, -1.73921362e-01,  5.66871107e-01, -3.73864025e-01,\n",
       "       -2.82929510e-01,  9.94157135e-01, -1.94802538e-01,  2.27260903e-01,\n",
       "        1.23677731e-01,  2.12938145e-01,  1.13645899e+00, -4.36007112e-01,\n",
       "        9.69288349e-01,  2.09698021e-01,  3.84136587e-01,  1.17941344e+00,\n",
       "       -2.15830505e-01, -6.25653043e-02, -4.59816575e-01,  1.88873366e-01,\n",
       "        1.17442656e+00, -3.73836160e-01,  3.88937294e-02,  1.56545627e+00,\n",
       "       -6.01561606e-01,  1.00827171e-02, -2.96586663e-01, -5.19481242e-01,\n",
       "        1.95081830e-01, -1.07237220e-01, -3.48962665e-01, -4.74634796e-01,\n",
       "        8.57405841e-01,  1.24422324e+00, -5.07216215e-01,  2.96255976e-01,\n",
       "        4.28121656e-01, -1.12684631e+00,  2.80460656e-01,  2.59387541e+00,\n",
       "       -5.79210043e-01,  1.18662298e+00,  1.47488073e-01, -3.80746633e-01,\n",
       "       -8.12170744e-01, -2.75397867e-01,  3.74047130e-01, -6.21517241e-01,\n",
       "       -4.73934978e-01, -1.85657609e-02,  5.37865348e-02, -4.94927526e-01,\n",
       "        8.89884233e-01, -6.58413231e-01,  5.26272476e-01,  1.05737329e-01,\n",
       "       -5.43034077e-01, -7.89142922e-02, -2.46554568e-01, -1.20527603e-01,\n",
       "       -8.65499198e-01,  4.91412133e-01,  2.29119733e-01,  9.93832126e-02,\n",
       "        3.77492666e-01, -4.38814431e-01, -1.41440213e-01, -3.66176181e-02,\n",
       "        1.64465475e+00,  1.00198615e+00, -4.99612957e-01, -2.14164779e-01,\n",
       "        6.09325953e-02, -8.75941932e-01, -2.24404499e-01,  8.90957177e-01,\n",
       "       -3.08544755e-01, -1.60499322e+00, -2.46809736e-01,  4.12671208e-01,\n",
       "       -6.07086206e-03, -9.87437785e-01,  1.41901636e+00, -1.02134264e+00,\n",
       "        3.28143030e-01, -6.99222147e-01, -8.51467073e-01, -9.19545829e-01,\n",
       "       -1.61156699e-01, -1.30103007e-01, -2.69489259e-01,  6.39884293e-01,\n",
       "        5.12486935e-01, -1.48029137e+00, -1.39752790e-01,  7.88343474e-02,\n",
       "        1.16449070e+00,  5.84184825e-01, -8.47924873e-02,  8.50566101e+00,\n",
       "        3.26985449e-01,  4.06938940e-01,  9.60030735e-01, -9.74081099e-01,\n",
       "       -3.24052840e-01, -1.55112934e+00, -3.40978533e-01,  1.61814976e+00,\n",
       "       -5.01663268e-01, -8.84738922e-01,  4.81855601e-01,  7.48669088e-01,\n",
       "        7.50442505e-01,  5.49108684e-01, -7.86327600e-01,  5.68466008e-01,\n",
       "        1.58078149e-01,  5.39555490e-01, -6.12431347e-01, -1.66369116e+00,\n",
       "        8.88658166e-02,  1.77364871e-01, -9.10489559e-01,  9.76959050e-01,\n",
       "       -4.34635878e-01,  3.81975502e-01, -6.90341055e-01,  4.00061280e-01,\n",
       "       -4.89315748e-01, -6.34095892e-02,  1.25031209e+00, -1.04008448e+00,\n",
       "        1.41954780e-01, -3.20914596e-01, -7.28472710e-01,  1.06981552e+00,\n",
       "        7.65337572e-02,  1.37969410e+00, -6.56663239e-01, -6.41959071e-01,\n",
       "        7.82966673e-01, -3.77788991e-01, -2.68370628e-01, -1.19012855e-01,\n",
       "       -7.83618763e-02,  1.31911564e+00,  5.31936586e-01,  1.87175706e-01,\n",
       "       -6.87997758e-01, -5.58082163e-01,  7.44489491e-01, -7.19979227e-01,\n",
       "        2.92171746e-01, -2.32811213e-01,  1.04568541e+00,  7.57549822e-01,\n",
       "        7.90026367e-01, -1.07415974e+00, -3.03348929e-01, -4.82181519e-01,\n",
       "        3.82109642e-01,  6.92429960e-01, -8.79203618e-01, -5.21586180e-01,\n",
       "        2.62932748e-01, -5.11255920e-01,  1.84031606e-01,  1.80997968e-01,\n",
       "       -1.85547364e+00, -7.31824577e-01, -3.03384095e-01, -9.74362850e-01,\n",
       "        5.56714296e-01,  7.87046969e-01, -6.05496228e-01,  1.00905764e+00,\n",
       "       -1.14122236e+00, -1.00507271e+00, -1.01467669e+00,  3.47316176e-01,\n",
       "       -1.08859456e+00, -3.34289670e-01, -5.59417367e-01,  1.39412671e-01,\n",
       "        4.80949134e-01,  8.40923309e-01, -6.57259151e-02, -5.59306860e-01,\n",
       "        7.20971823e-01,  1.97254419e+00,  2.33504951e-01, -2.87840098e-01,\n",
       "        9.40458998e-02,  1.20275475e-01, -4.54728454e-01, -6.74658716e-01,\n",
       "       -3.93615097e-01,  9.06561017e-02, -9.21890557e-01,  4.78913635e-03,\n",
       "        4.34887528e-01,  9.01515316e-03, -4.69938189e-01,  4.69231158e-01,\n",
       "       -8.97368908e-01,  7.45319545e-01, -6.04090095e-01,  6.51388705e-01,\n",
       "       -1.48456323e+00, -1.70574978e-01, -7.84967601e-01,  1.61904871e+00,\n",
       "       -1.13180183e-01, -5.95088542e-01,  6.09655082e-01,  7.13225305e-01,\n",
       "        3.40190619e-01,  1.49801254e+00, -8.85472596e-01,  1.29165292e-01,\n",
       "       -7.79890835e-01, -7.69070089e-01, -4.57595699e-02,  4.21207845e-02,\n",
       "       -5.40375292e-01, -9.13157687e-02, -2.75186628e-01, -2.10313752e-01,\n",
       "        3.42301458e-01,  2.12102979e-02,  5.54110050e-01, -1.71886459e-01,\n",
       "       -3.50832254e-01,  1.29940763e-01, -3.42704743e-01, -4.00495939e-02,\n",
       "        5.11739552e-01, -1.16690123e+00, -1.67600766e-01, -4.69782829e-01,\n",
       "        1.11883020e+00,  7.99967706e-01, -3.03948134e-01, -1.88815936e-01,\n",
       "       -3.54228407e-01, -4.63807791e-01, -7.80960560e-01, -1.18161380e+00,\n",
       "        1.54616177e+00, -1.01616800e+00, -2.65457798e-02, -7.45390117e-01,\n",
       "        6.31520152e-01,  3.93357903e-01, -4.36196208e-01, -7.29643404e-01,\n",
       "       -1.01552641e+00, -3.74700695e-01,  1.90221190e-01, -1.02009714e+00,\n",
       "        6.25092804e-01, -5.15415132e-01,  1.25057980e-01, -1.56336144e-01,\n",
       "       -5.18577695e-01,  7.89207742e-02,  6.54308379e-01,  1.11718130e+00,\n",
       "       -8.80901396e-01,  8.68694842e-01, -1.08943902e-01, -9.18398321e-01,\n",
       "        9.80556428e-01, -1.85572937e-01, -1.60801423e+00, -8.09948742e-01,\n",
       "        1.22618449e+00, -4.19213511e-02, -2.67980188e-01, -8.00802529e-01,\n",
       "       -2.69138604e-01,  2.32334718e-01, -1.36712372e-01,  5.77400066e-02,\n",
       "       -1.02740562e+00,  1.10858977e+00,  6.08116150e-01,  6.36145651e-01,\n",
       "        2.37431765e-01, -1.25108397e+00, -1.11326540e+00, -7.81470835e-01,\n",
       "       -1.39155313e-01,  2.06054106e-01,  1.36136782e+00,  6.62231743e-01,\n",
       "        8.85639012e-01,  1.37933537e-01,  1.81243137e-01, -9.22891855e-01,\n",
       "        3.77701759e+00,  6.79202378e-03, -3.54051590e-03,  1.52769864e-01,\n",
       "        3.66791010e-01, -9.04081762e-01, -1.05006588e+00, -1.46848452e+00,\n",
       "       -1.27553213e+00,  3.88893001e-02,  1.42827883e-01, -2.54223257e-01,\n",
       "        2.83026248e-01,  5.34476697e-01,  9.56135765e-02,  1.38372135e+00,\n",
       "       -1.15781438e+00,  2.85880757e-03, -9.05176938e-01,  6.48678422e-01,\n",
       "       -2.75526196e-01,  1.82478821e+00,  7.32691064e-02,  4.04068738e-01,\n",
       "        3.45610052e-01, -9.06320810e-02, -7.28596151e-01,  3.27024721e-02,\n",
       "        6.82653785e-02, -8.12840879e-01, -7.94871747e-01,  1.49544477e-01,\n",
       "       -6.46949351e-01, -1.90766931e-01, -8.66317570e-01,  4.26711798e-01,\n",
       "        1.05142725e+00, -2.46586934e-01, -6.45515800e-01,  3.56041461e-01,\n",
       "       -6.42945588e-01,  9.78364944e-01,  2.20524207e-01,  5.46760917e-01,\n",
       "       -1.08161144e-01, -1.02437109e-01, -7.92334005e-02, -9.05724049e-01,\n",
       "        1.82666183e-01, -1.54491103e+00,  2.23125637e-01,  1.28132784e+00,\n",
       "        2.73583680e-01, -3.51885885e-01, -6.62871301e-02, -1.80487120e+00,\n",
       "        1.59127867e+00,  1.19055068e+00, -9.63762939e-01,  1.44389778e-01,\n",
       "       -3.75860184e-01,  5.02968431e-01,  4.88511831e-01, -5.03608167e-01,\n",
       "       -1.69075334e+00,  1.03113055e+00,  1.49239528e+00,  1.50223529e+00,\n",
       "        6.97039664e-01,  8.47918332e-01,  3.98724526e-01,  4.33488153e-02,\n",
       "        5.04934847e-01, -1.05491793e+00, -9.69200611e-01, -9.50914204e-01,\n",
       "       -5.07299364e-01,  1.01626420e+00, -6.62717462e-01,  1.31637132e+00,\n",
       "        8.96709919e-01,  1.49032176e-01,  1.58967972e+00,  2.05406353e-01,\n",
       "       -8.56525183e-01, -2.18324482e-01, -1.40135527e-01, -5.54544806e-01,\n",
       "        1.06201850e-01, -2.18583301e-01, -5.34659028e-01, -8.42055619e-01,\n",
       "        8.10726643e-01,  7.20140636e-01,  3.63330096e-01,  6.98312521e-01,\n",
       "       -1.24986798e-01, -7.74458706e-01,  1.90742865e-01,  1.71377981e+00,\n",
       "        4.84273225e-01, -7.86728144e-01,  1.47639334e+00,  6.15462959e-01,\n",
       "       -1.51555014e+00,  3.89224738e-01, -1.64580211e-01, -9.55250740e-01,\n",
       "        1.07336724e+00, -4.01915938e-01, -6.38109267e-01,  1.01278253e-01,\n",
       "        3.43666226e-01,  7.19400048e-02,  7.42157161e-01, -1.23903096e+00,\n",
       "        5.48830986e-01, -1.07649885e-01, -6.19678557e-01,  1.66924726e-02,\n",
       "        1.56359398e+00,  7.06054389e-01,  5.37391186e-01, -9.55601990e-01,\n",
       "       -8.88194025e-01, -5.96366823e-01,  2.91001201e-01,  1.98244765e-01,\n",
       "       -3.48267704e-01, -3.87469381e-01,  5.61995685e-01,  7.52908766e-01,\n",
       "       -3.57054263e-01, -1.41698852e-01, -3.99547145e-02, -9.21613753e-01,\n",
       "       -9.54283535e-01,  7.68600777e-02,  5.24987280e-01, -4.77806449e-01,\n",
       "        2.01556042e-01,  2.21797332e-01, -8.22336495e-01,  1.07491088e+00,\n",
       "        5.61283410e-01, -1.09951170e-02, -1.03610003e+00, -1.04004037e+00,\n",
       "        1.04631394e-01,  1.78547239e+00,  4.19143289e-01,  3.09180856e-01,\n",
       "        1.19474195e-01, -9.79177058e-01,  5.99343121e-01, -3.05992037e-01,\n",
       "       -1.58589110e-01, -3.52988057e-02, -1.35881886e-01,  7.63340414e-01,\n",
       "        1.40840948e-01,  6.67624414e-01,  4.65712637e-01,  2.83799350e-01,\n",
       "       -1.34097099e+00, -6.90867424e-01,  9.87992585e-01, -1.33243871e+00,\n",
       "        5.25905013e-01, -2.78192830e+00,  6.32747769e-01,  3.45682293e-01,\n",
       "        1.16007261e-01, -2.48000517e-01, -1.67699766e+00,  1.62751496e+00,\n",
       "       -3.37177157e-01, -2.48561308e-01,  4.31665987e-01, -3.59584898e-04,\n",
       "       -4.40512657e-01,  1.05979443e+00,  7.07276583e-01, -7.74122179e-01,\n",
       "        3.65953416e-01, -1.57496095e-01,  3.95649076e-01,  4.05332595e-02,\n",
       "       -1.26944268e+00,  4.06950355e-01, -2.15564385e-01, -3.87349993e-01,\n",
       "       -3.97201270e-01,  2.04590797e-01,  9.48190615e-02,  6.62143528e-01,\n",
       "        2.58626431e-01,  2.40292168e+00,  4.43613045e-02,  2.87182570e-01,\n",
       "        6.38800681e-01, -2.41231680e-01, -3.55719835e-01,  2.59018153e-01,\n",
       "        6.76984340e-02,  9.64168608e-01,  3.92496698e-02,  3.83852035e-01,\n",
       "        2.22503021e-01, -7.79314041e-01, -4.38681155e-01,  5.93030870e-01,\n",
       "       -1.00209512e-01,  6.04709148e-01,  1.02750289e+00, -2.04132959e-01,\n",
       "        3.08663040e-01,  5.91880143e-01, -3.66503149e-01, -3.72615010e-01,\n",
       "        9.84975975e-03,  3.12939972e-01, -3.49562287e-01,  9.04914200e-01,\n",
       "       -1.57891750e+00,  9.39259470e-01, -6.49280667e-01, -1.79504716e+00],\n",
       "      dtype=float32)"
      ]
     },
     "execution_count": 7,
     "metadata": {},
     "output_type": "execute_result"
    }
   ],
   "source": [
    "store[3]"
   ]
  },
  {
   "cell_type": "code",
   "execution_count": 15,
   "metadata": {},
   "outputs": [
    {
     "data": {
      "text/plain": [
       "(768,)"
      ]
     },
     "execution_count": 15,
     "metadata": {},
     "output_type": "execute_result"
    }
   ],
   "source": [
    "store[3].shape"
   ]
  },
  {
   "cell_type": "code",
   "execution_count": 9,
   "metadata": {},
   "outputs": [],
   "source": [
    "metadata_df = store.load_metadata_table()"
   ]
  },
  {
   "cell_type": "code",
   "execution_count": 10,
   "metadata": {},
   "outputs": [
    {
     "data": {
      "text/html": [
       "<div>\n",
       "<style scoped>\n",
       "    .dataframe tbody tr th:only-of-type {\n",
       "        vertical-align: middle;\n",
       "    }\n",
       "\n",
       "    .dataframe tbody tr th {\n",
       "        vertical-align: top;\n",
       "    }\n",
       "\n",
       "    .dataframe thead th {\n",
       "        text-align: right;\n",
       "    }\n",
       "</style>\n",
       "<table border=\"1\" class=\"dataframe\">\n",
       "  <thead>\n",
       "    <tr style=\"text-align: right;\">\n",
       "      <th></th>\n",
       "      <th>smiles</th>\n",
       "      <th>success</th>\n",
       "      <th>index</th>\n",
       "      <th>batch_id</th>\n",
       "      <th>processing_time</th>\n",
       "      <th>tensor_idx</th>\n",
       "    </tr>\n",
       "  </thead>\n",
       "  <tbody>\n",
       "    <tr>\n",
       "      <th>0</th>\n",
       "      <td>CCO</td>\n",
       "      <td>True</td>\n",
       "      <td>0</td>\n",
       "      <td>0</td>\n",
       "      <td>1.734394e+09</td>\n",
       "      <td>0</td>\n",
       "    </tr>\n",
       "    <tr>\n",
       "      <th>1</th>\n",
       "      <td>C</td>\n",
       "      <td>True</td>\n",
       "      <td>1</td>\n",
       "      <td>0</td>\n",
       "      <td>1.734394e+09</td>\n",
       "      <td>1</td>\n",
       "    </tr>\n",
       "    <tr>\n",
       "      <th>2</th>\n",
       "      <td>CO</td>\n",
       "      <td>True</td>\n",
       "      <td>2</td>\n",
       "      <td>0</td>\n",
       "      <td>1.734394e+09</td>\n",
       "      <td>2</td>\n",
       "    </tr>\n",
       "    <tr>\n",
       "      <th>3</th>\n",
       "      <td>NCCS</td>\n",
       "      <td>True</td>\n",
       "      <td>3</td>\n",
       "      <td>0</td>\n",
       "      <td>1.734394e+09</td>\n",
       "      <td>3</td>\n",
       "    </tr>\n",
       "    <tr>\n",
       "      <th>4</th>\n",
       "      <td>NCCN</td>\n",
       "      <td>True</td>\n",
       "      <td>4</td>\n",
       "      <td>0</td>\n",
       "      <td>1.734394e+09</td>\n",
       "      <td>4</td>\n",
       "    </tr>\n",
       "  </tbody>\n",
       "</table>\n",
       "</div>"
      ],
      "text/plain": [
       "  smiles  success  index  batch_id  processing_time  tensor_idx\n",
       "0    CCO     True      0         0     1.734394e+09           0\n",
       "1      C     True      1         0     1.734394e+09           1\n",
       "2     CO     True      2         0     1.734394e+09           2\n",
       "3   NCCS     True      3         0     1.734394e+09           3\n",
       "4   NCCN     True      4         0     1.734394e+09           4"
      ]
     },
     "execution_count": 10,
     "metadata": {},
     "output_type": "execute_result"
    }
   ],
   "source": [
    "metadata_df.head() # success - was there error during embedding creation"
   ]
  },
  {
   "cell_type": "code",
   "execution_count": 11,
   "metadata": {},
   "outputs": [],
   "source": [
    "non_error_index = metadata_df[metadata_df['success']==True].index"
   ]
  },
  {
   "cell_type": "code",
   "execution_count": 12,
   "metadata": {},
   "outputs": [
    {
     "data": {
      "text/plain": [
       "(1576904, 1576904)"
      ]
     },
     "execution_count": 12,
     "metadata": {},
     "output_type": "execute_result"
    }
   ],
   "source": [
    "len(non_error_index), metadata_df.shape[0]"
   ]
  },
  {
   "cell_type": "code",
   "execution_count": 13,
   "metadata": {},
   "outputs": [],
   "source": [
    "def load_embeddings_batch(store, non_error_index, batch_size=1000):\n",
    "    \"\"\"\n",
    "    Load embeddings in batches and yield them\n",
    "    \"\"\"\n",
    "    for i in range(0, len(non_error_index), batch_size):\n",
    "        batch_indices = non_error_index[i:i + batch_size]\n",
    "        batch_embeddings = []\n",
    "        \n",
    "        for idx in batch_indices:\n",
    "            emb = store[idx]\n",
    "            if isinstance(emb, torch.Tensor):\n",
    "                emb = emb.numpy()\n",
    "            batch_embeddings.append(emb.reshape(-1))\n",
    "            \n",
    "        yield np.array(batch_embeddings)"
   ]
  },
  {
   "cell_type": "code",
   "execution_count": 17,
   "metadata": {},
   "outputs": [],
   "source": [
    "def compute_principal_components(store, non_error_index, batch_size=1000):\n",
    "    \"\"\"\n",
    "    Compute all 300 principal components of the embedding space using IncrementalPCA\n",
    "    \"\"\"\n",
    "    # Initialize IncrementalPCA with full dimensionality\n",
    "    ipca = IncrementalPCA(n_components=768)  # Get all 300 components\n",
    "    \n",
    "    # Fit PCA incrementally\n",
    "    for batch in tqdm(load_embeddings_batch(store, non_error_index, batch_size), \n",
    "                     desc=\"Computing PCA\", \n",
    "                     total=len(non_error_index)//batch_size + 1):\n",
    "        ipca.partial_fit(batch)\n",
    "    \n",
    "    # Get explained variance ratio and eigenvectors\n",
    "    explained_variance_ratio = ipca.explained_variance_ratio_\n",
    "    eigenvectors = ipca.components_  # Shape will be (300, 300)\n",
    "    \n",
    "    return eigenvectors, explained_variance_ratio, ipca"
   ]
  },
  {
   "cell_type": "code",
   "execution_count": 18,
   "metadata": {},
   "outputs": [],
   "source": [
    "def direct_egv_comp(store, non_error_index, batch_size=1000):\n",
    "    \"\"\"\n",
    "    Compute eigenvectors through direct covariance matrix calculation\n",
    "    \"\"\"\n",
    "    # Step 1: Calculate mean vector\n",
    "    print(\"Computing mean vector...\")\n",
    "    mean_vector = np.zeros(768)\n",
    "    total_count = 0\n",
    "    \n",
    "    for batch in tqdm(load_embeddings_batch(store, non_error_index, batch_size),\n",
    "                     desc=\"Computing mean\",\n",
    "                     total=len(non_error_index)//batch_size + 1):\n",
    "        mean_vector += np.sum(batch, axis=0)\n",
    "        total_count += batch.shape[0]\n",
    "    \n",
    "    mean_vector /= total_count\n",
    "    \n",
    "    # Step 2: Compute covariance matrix block by block\n",
    "    print(\"Computing covariance matrix...\")\n",
    "    cov_matrix = np.zeros((768, 768))\n",
    "    \n",
    "    for batch in tqdm(load_embeddings_batch(store, non_error_index, batch_size),\n",
    "                     desc=\"Computing covariance\",\n",
    "                     total=len(non_error_index)//batch_size + 1):\n",
    "        # Center the batch\n",
    "        centered_batch = batch - mean_vector\n",
    "        # Update covariance matrix\n",
    "        cov_matrix += centered_batch.T @ centered_batch\n",
    "    \n",
    "    cov_matrix /= (total_count - 1)\n",
    "    \n",
    "    # Step 3: Compute eigenvectors and eigenvalues\n",
    "    print(\"Computing eigenvectors...\")\n",
    "    eigenvalues, eigenvectors = np.linalg.eigh(cov_matrix)\n",
    "    \n",
    "    # Sort by eigenvalues in descending order\n",
    "    idx = eigenvalues.argsort()[::-1]\n",
    "    eigenvalues = eigenvalues[idx]\n",
    "    eigenvectors = eigenvectors[:, idx]\n",
    "    \n",
    "    # Calculate explained variance ratio\n",
    "    explained_variance_ratio = eigenvalues / np.sum(eigenvalues)\n",
    "    \n",
    "    return eigenvectors.T, explained_variance_ratio, None  # None instead of ipca"
   ]
  },
  {
   "cell_type": "code",
   "execution_count": 19,
   "metadata": {},
   "outputs": [],
   "source": [
    "def find_nearest_molecules(store, non_error_index, eigenvectors):\n",
    "    \"\"\"\n",
    "    Find the nearest molecules to each eigenvector using KDTree for efficient nearest neighbor search\n",
    "    \"\"\"\n",
    "    from sklearn.neighbors import KDTree\n",
    "    \n",
    "    # First, collect all embeddings into a matrix\n",
    "    print(\"Building embeddings matrix...\")\n",
    "    all_embeddings = []\n",
    "    for idx in tqdm(non_error_index, desc=\"Loading embeddings\"):\n",
    "        emb = store[idx]\n",
    "        if isinstance(emb, torch.Tensor):\n",
    "            emb = emb.numpy()\n",
    "        emb = emb.reshape(-1)\n",
    "        \n",
    "        # Normalize embedding\n",
    "        emb = emb / np.linalg.norm(emb)\n",
    "        all_embeddings.append(emb)\n",
    "    \n",
    "    all_embeddings = np.array(all_embeddings)\n",
    "    \n",
    "    # Print diagnostics for embeddings\n",
    "    print(\"\\nEmbeddings statistics:\")\n",
    "    print(f\"Shape: {all_embeddings.shape}\")\n",
    "    print(f\"Mean norm: {np.mean([np.linalg.norm(emb) for emb in all_embeddings])}\")\n",
    "    print(f\"Mean: {np.mean(all_embeddings)}\")\n",
    "    print(f\"Std: {np.std(all_embeddings)}\")\n",
    "    \n",
    "    # Normalize eigenvectors\n",
    "    print(\"\\nEigenvectors statistics before normalization:\")\n",
    "    print(f\"Shape: {eigenvectors.shape}\")\n",
    "    print(f\"Mean norm: {np.mean([np.linalg.norm(vec) for vec in eigenvectors])}\")\n",
    "    print(f\"Mean: {np.mean(eigenvectors)}\")\n",
    "    print(f\"Std: {np.std(eigenvectors)}\")\n",
    "    \n",
    "    normalized_eigenvectors = eigenvectors.copy()\n",
    "    for i in range(len(normalized_eigenvectors)):\n",
    "        normalized_eigenvectors[i] = normalized_eigenvectors[i] / np.linalg.norm(normalized_eigenvectors[i])\n",
    "    \n",
    "    print(\"\\nEigenvectors statistics after normalization:\")\n",
    "    print(f\"Mean norm: {np.mean([np.linalg.norm(vec) for vec in normalized_eigenvectors])}\")\n",
    "    \n",
    "    # Build KDTree\n",
    "    print(\"\\nBuilding KDTree...\")\n",
    "    tree = KDTree(all_embeddings)\n",
    "    \n",
    "    # Query tree for each eigenvector\n",
    "    print(\"Finding nearest neighbors...\")\n",
    "    nearest_molecules = []\n",
    "    nearest_distances = []\n",
    "    \n",
    "    for eigenvector in tqdm(normalized_eigenvectors, desc=\"Querying KDTree\"):\n",
    "        distances, indices = tree.query(eigenvector.reshape(1, -1), k=5)  # Get top 5 for debugging\n",
    "        \n",
    "        # Print first few matches for debugging\n",
    "        if len(nearest_molecules) < 3:\n",
    "            print(f\"\\nEigenvector {len(nearest_molecules)} top matches:\")\n",
    "            for d, i in zip(distances[0], indices[0]):\n",
    "                orig_idx = non_error_index[i]\n",
    "                print(f\"Distance: {d:.4f}, SMILES: {metadata_df.iloc[orig_idx]['smiles']}\")\n",
    "        \n",
    "        nearest_molecules.append(non_error_index[indices[0][0]])\n",
    "        nearest_distances.append(distances[0][0])\n",
    "    \n",
    "    return nearest_molecules, nearest_distances\n"
   ]
  },
  {
   "cell_type": "code",
   "execution_count": 20,
   "metadata": {},
   "outputs": [],
   "source": [
    "non_error_index = metadata_df[metadata_df['success']==True].index.values"
   ]
  },
  {
   "cell_type": "code",
   "execution_count": null,
   "metadata": {},
   "outputs": [],
   "source": [
    "print(\"Computing principal components...\")\n",
    "eigenvectors, explained_variance_ratio, ipca = compute_principal_components(store, non_error_index)"
   ]
  },
  {
   "cell_type": "code",
   "execution_count": 22,
   "metadata": {},
   "outputs": [
    {
     "name": "stdout",
     "output_type": "stream",
     "text": [
      "Computing eigenvectors directly...\n",
      "Computing mean vector...\n"
     ]
    },
    {
     "name": "stderr",
     "output_type": "stream",
     "text": [
      "Computing mean: 100%|██████████| 1577/1577 [00:27<00:00, 57.28it/s]\n"
     ]
    },
    {
     "name": "stdout",
     "output_type": "stream",
     "text": [
      "Computing covariance matrix...\n"
     ]
    },
    {
     "name": "stderr",
     "output_type": "stream",
     "text": [
      "Computing covariance: 100%|██████████| 1577/1577 [00:32<00:00, 48.10it/s]\n"
     ]
    },
    {
     "name": "stdout",
     "output_type": "stream",
     "text": [
      "Computing eigenvectors...\n"
     ]
    }
   ],
   "source": [
    "print(\"Computing eigenvectors directly...\")\n",
    "eigenvectors, explained_variance_ratio, ipca = direct_egv_comp(store, non_error_index)"
   ]
  },
  {
   "cell_type": "code",
   "execution_count": 23,
   "metadata": {},
   "outputs": [
    {
     "name": "stdout",
     "output_type": "stream",
     "text": [
      "Finding nearest molecules to eigenvectors...\n",
      "Building embeddings matrix...\n"
     ]
    },
    {
     "name": "stderr",
     "output_type": "stream",
     "text": [
      "Loading embeddings: 100%|██████████| 1576904/1576904 [00:16<00:00, 93430.50it/s] \n"
     ]
    },
    {
     "name": "stdout",
     "output_type": "stream",
     "text": [
      "\n",
      "Embeddings statistics:\n",
      "Shape: (1576904, 768)\n",
      "Mean norm: 1.0\n",
      "Mean: -0.0001453390868846327\n",
      "Std: 0.036080531775951385\n",
      "\n",
      "Eigenvectors statistics before normalization:\n",
      "Shape: (768, 768)\n",
      "Mean norm: 1.0\n",
      "Mean: 4.615175322810023e-05\n",
      "Std: 0.03608436231041096\n",
      "\n",
      "Eigenvectors statistics after normalization:\n",
      "Mean norm: 1.0\n",
      "\n",
      "Building KDTree...\n",
      "Finding nearest neighbors...\n"
     ]
    },
    {
     "name": "stderr",
     "output_type": "stream",
     "text": [
      "Querying KDTree:   0%|          | 1/768 [00:01<22:31,  1.76s/it]"
     ]
    },
    {
     "name": "stdout",
     "output_type": "stream",
     "text": [
      "\n",
      "Eigenvector 0 top matches:\n",
      "Distance: 0.9129, SMILES: CC1OC(OC2C(O)C(OC3OC(CO)C(O)C(O)C3O)C(OC3CCC4(C)C(CCC5(C)C4CC=C4C6CC(C)(C)CC(OC(=O)C=C(C)C)C6(CO)C(O)C(O)C54C)C3(C)C)OC2C(O)=O)C(O)C(O)C1O\n",
      "Distance: 0.9170, SMILES: CC1OC(OC2CCC3(C)C(CCC4(C)C3=CC=C3C5CC(C)(C)CCC5(CO)C(O)CC43C)C2(C)CO)C(O)C(OC2OC(CO)C(OC3OCC(O)C(O)C3O)C(O)C2O)C1O\n",
      "Distance: 0.9187, SMILES: COC(C)(C)C=CC(O)C(C)(O)C1CCC2(C)C1CCC1C3(C)CCC(OC4OC(CO)C(O)C(O)C4OC4OC(C)C(O)C(O)C4O)C(C)(C)C3CC(O)C21C\n",
      "Distance: 0.9197, SMILES: CC(C)=CCCC(C)(O)C1CCC2(C)C1C(O)CC1C3(C)CCC(OC4OC(CO)C(O)C(O)C4OC4OC(CO)C(O)C(O)C4OC4OCC(O)C(O)C4O)C(C)(C)C3CCC21C\n",
      "Distance: 0.9211, SMILES: CC=C(C)C(=O)OC1C(OC(C)=O)C(C)(C)CC2C3=CCC4C5(C)CCC(OC6OC(C(O)C(O)C6OC6OC(C)C(O)C(O)C6O)C(O)=O)C(C)(C)C5CCC4(C)C3(C)C(O)C(O)C12CO\n"
     ]
    },
    {
     "name": "stderr",
     "output_type": "stream",
     "text": [
      "Querying KDTree:   0%|          | 2/768 [00:03<23:34,  1.85s/it]"
     ]
    },
    {
     "name": "stdout",
     "output_type": "stream",
     "text": [
      "\n",
      "Eigenvector 1 top matches:\n",
      "Distance: 0.8524, SMILES: CC1(C)Oc2cc(O)c3C(=O)c4cc(O)ccc4Oc3c2C=C1\n",
      "Distance: 0.8587, SMILES: COc1c(O)cc(O)c2C(=O)C=C(Oc12)c1ccccc1\n",
      "Distance: 0.8590, SMILES: CC1(C)Oc2cc(O)c3C(=O)c4ccc(O)cc4Oc3c2C=C1\n",
      "Distance: 0.8596, SMILES: CC1(C)Oc2cc3C(=O)c4ccccc4Oc3c(O)c2C=C1\n",
      "Distance: 0.8597, SMILES: CC1(C)Oc2cc(O)c3C(=O)c4ccccc4Oc3c2C=C1\n"
     ]
    },
    {
     "name": "stderr",
     "output_type": "stream",
     "text": [
      "Querying KDTree:   0%|          | 3/768 [00:05<24:25,  1.92s/it]"
     ]
    },
    {
     "name": "stdout",
     "output_type": "stream",
     "text": [
      "\n",
      "Eigenvector 2 top matches:\n",
      "Distance: 1.0235, SMILES: COc1ccc(C=C2SC(=S)N(CC(=O)OCC(=O)Nc3ccc(C)cc3Cl)C2=O)cc1\n",
      "Distance: 1.0364, SMILES: COc1ccc(C=C2SC(=S)N(CC(=O)OCC(=O)Nc3cc(Cl)cc(Cl)c3)C2=O)cc1\n",
      "Distance: 1.0589, SMILES: CCc1nnc(NC(=O)CN2C(=S)SC(=Cc3ccc(OC)c(OC)c3)C2=O)s1\n",
      "Distance: 1.0598, SMILES: CCc1nnc(NC(=O)CN2C(=S)SC(=Cc3cc(OC)c(OC)c(OC)c3)C2=O)s1\n",
      "Distance: 1.0616, SMILES: CCc1ccc(C=C2SC(=S)N(CC(=O)Nc3nc4ccccc4s3)C2=O)cc1\n"
     ]
    },
    {
     "name": "stderr",
     "output_type": "stream",
     "text": [
      "Querying KDTree: 100%|██████████| 768/768 [25:36<00:00,  2.00s/it]\n"
     ]
    }
   ],
   "source": [
    "print(\"Finding nearest molecules to eigenvectors...\")\n",
    "nearest_molecules, nearest_distances = find_nearest_molecules(store, non_error_index, eigenvectors)"
   ]
  },
  {
   "cell_type": "code",
   "execution_count": 24,
   "metadata": {},
   "outputs": [],
   "source": [
    "results_df = pd.DataFrame({\n",
    "        'eigenvector_idx': range(len(nearest_molecules)),\n",
    "        'nearest_molecule_idx': nearest_molecules,\n",
    "        'distance': nearest_distances,\n",
    "        'explained_variance_ratio': explained_variance_ratio,\n",
    "        'cumulative_variance_ratio': np.cumsum(explained_variance_ratio),\n",
    "        'smiles': [metadata_df.iloc[idx]['smiles'] for idx in nearest_molecules]\n",
    "    })"
   ]
  },
  {
   "cell_type": "code",
   "execution_count": 25,
   "metadata": {},
   "outputs": [],
   "source": [
    "results_df = results_df.sort_values('explained_variance_ratio', ascending=False)"
   ]
  },
  {
   "cell_type": "code",
   "execution_count": 26,
   "metadata": {},
   "outputs": [
    {
     "data": {
      "text/html": [
       "<div>\n",
       "<style scoped>\n",
       "    .dataframe tbody tr th:only-of-type {\n",
       "        vertical-align: middle;\n",
       "    }\n",
       "\n",
       "    .dataframe tbody tr th {\n",
       "        vertical-align: top;\n",
       "    }\n",
       "\n",
       "    .dataframe thead th {\n",
       "        text-align: right;\n",
       "    }\n",
       "</style>\n",
       "<table border=\"1\" class=\"dataframe\">\n",
       "  <thead>\n",
       "    <tr style=\"text-align: right;\">\n",
       "      <th></th>\n",
       "      <th>eigenvector_idx</th>\n",
       "      <th>nearest_molecule_idx</th>\n",
       "      <th>distance</th>\n",
       "      <th>explained_variance_ratio</th>\n",
       "      <th>cumulative_variance_ratio</th>\n",
       "      <th>smiles</th>\n",
       "    </tr>\n",
       "  </thead>\n",
       "  <tbody>\n",
       "    <tr>\n",
       "      <th>0</th>\n",
       "      <td>0</td>\n",
       "      <td>1555678</td>\n",
       "      <td>0.912870</td>\n",
       "      <td>7.523119e-02</td>\n",
       "      <td>0.075231</td>\n",
       "      <td>CC1OC(OC2C(O)C(OC3OC(CO)C(O)C(O)C3O)C(OC3CCC4(...</td>\n",
       "    </tr>\n",
       "    <tr>\n",
       "      <th>1</th>\n",
       "      <td>1</td>\n",
       "      <td>538160</td>\n",
       "      <td>0.852413</td>\n",
       "      <td>6.704994e-02</td>\n",
       "      <td>0.142281</td>\n",
       "      <td>CC1(C)Oc2cc(O)c3C(=O)c4cc(O)ccc4Oc3c2C=C1</td>\n",
       "    </tr>\n",
       "    <tr>\n",
       "      <th>2</th>\n",
       "      <td>2</td>\n",
       "      <td>1196081</td>\n",
       "      <td>1.023466</td>\n",
       "      <td>5.369856e-02</td>\n",
       "      <td>0.195980</td>\n",
       "      <td>COc1ccc(C=C2SC(=S)N(CC(=O)OCC(=O)Nc3ccc(C)cc3C...</td>\n",
       "    </tr>\n",
       "    <tr>\n",
       "      <th>3</th>\n",
       "      <td>3</td>\n",
       "      <td>1565124</td>\n",
       "      <td>1.223687</td>\n",
       "      <td>3.813828e-02</td>\n",
       "      <td>0.234118</td>\n",
       "      <td>OC1C2OC(=O)c3c1c(O)c(O)c(O)c3-c1c(O)c(O)c(O)c3...</td>\n",
       "    </tr>\n",
       "    <tr>\n",
       "      <th>4</th>\n",
       "      <td>4</td>\n",
       "      <td>641064</td>\n",
       "      <td>1.043033</td>\n",
       "      <td>3.514329e-02</td>\n",
       "      <td>0.269261</td>\n",
       "      <td>O=C1CN(CC(=O)N1)S(=O)(=O)c1ccc(cc1)N(=O)=O</td>\n",
       "    </tr>\n",
       "    <tr>\n",
       "      <th>...</th>\n",
       "      <td>...</td>\n",
       "      <td>...</td>\n",
       "      <td>...</td>\n",
       "      <td>...</td>\n",
       "      <td>...</td>\n",
       "      <td>...</td>\n",
       "    </tr>\n",
       "    <tr>\n",
       "      <th>763</th>\n",
       "      <td>763</td>\n",
       "      <td>228</td>\n",
       "      <td>1.399401</td>\n",
       "      <td>1.023342e-05</td>\n",
       "      <td>0.999970</td>\n",
       "      <td>CSCCC=O</td>\n",
       "    </tr>\n",
       "    <tr>\n",
       "      <th>764</th>\n",
       "      <td>764</td>\n",
       "      <td>102</td>\n",
       "      <td>1.405356</td>\n",
       "      <td>1.006060e-05</td>\n",
       "      <td>0.999980</td>\n",
       "      <td>CCON</td>\n",
       "    </tr>\n",
       "    <tr>\n",
       "      <th>765</th>\n",
       "      <td>765</td>\n",
       "      <td>42</td>\n",
       "      <td>1.408313</td>\n",
       "      <td>9.972632e-06</td>\n",
       "      <td>0.999990</td>\n",
       "      <td>COCOC</td>\n",
       "    </tr>\n",
       "    <tr>\n",
       "      <th>766</th>\n",
       "      <td>766</td>\n",
       "      <td>1249</td>\n",
       "      <td>1.400865</td>\n",
       "      <td>9.745502e-06</td>\n",
       "      <td>1.000000</td>\n",
       "      <td>[O-][N+]#N</td>\n",
       "    </tr>\n",
       "    <tr>\n",
       "      <th>767</th>\n",
       "      <td>767</td>\n",
       "      <td>1459815</td>\n",
       "      <td>1.411359</td>\n",
       "      <td>2.119424e-17</td>\n",
       "      <td>1.000000</td>\n",
       "      <td>CC(C)(C)n1cc(CN2CCC3(CN(C(=O)O3)c3ccc(cc3)C(O)...</td>\n",
       "    </tr>\n",
       "  </tbody>\n",
       "</table>\n",
       "<p>768 rows × 6 columns</p>\n",
       "</div>"
      ],
      "text/plain": [
       "     eigenvector_idx  nearest_molecule_idx  distance  \\\n",
       "0                  0               1555678  0.912870   \n",
       "1                  1                538160  0.852413   \n",
       "2                  2               1196081  1.023466   \n",
       "3                  3               1565124  1.223687   \n",
       "4                  4                641064  1.043033   \n",
       "..               ...                   ...       ...   \n",
       "763              763                   228  1.399401   \n",
       "764              764                   102  1.405356   \n",
       "765              765                    42  1.408313   \n",
       "766              766                  1249  1.400865   \n",
       "767              767               1459815  1.411359   \n",
       "\n",
       "     explained_variance_ratio  cumulative_variance_ratio  \\\n",
       "0                7.523119e-02                   0.075231   \n",
       "1                6.704994e-02                   0.142281   \n",
       "2                5.369856e-02                   0.195980   \n",
       "3                3.813828e-02                   0.234118   \n",
       "4                3.514329e-02                   0.269261   \n",
       "..                        ...                        ...   \n",
       "763              1.023342e-05                   0.999970   \n",
       "764              1.006060e-05                   0.999980   \n",
       "765              9.972632e-06                   0.999990   \n",
       "766              9.745502e-06                   1.000000   \n",
       "767              2.119424e-17                   1.000000   \n",
       "\n",
       "                                                smiles  \n",
       "0    CC1OC(OC2C(O)C(OC3OC(CO)C(O)C(O)C3O)C(OC3CCC4(...  \n",
       "1            CC1(C)Oc2cc(O)c3C(=O)c4cc(O)ccc4Oc3c2C=C1  \n",
       "2    COc1ccc(C=C2SC(=S)N(CC(=O)OCC(=O)Nc3ccc(C)cc3C...  \n",
       "3    OC1C2OC(=O)c3c1c(O)c(O)c(O)c3-c1c(O)c(O)c(O)c3...  \n",
       "4           O=C1CN(CC(=O)N1)S(=O)(=O)c1ccc(cc1)N(=O)=O  \n",
       "..                                                 ...  \n",
       "763                                            CSCCC=O  \n",
       "764                                               CCON  \n",
       "765                                              COCOC  \n",
       "766                                         [O-][N+]#N  \n",
       "767  CC(C)(C)n1cc(CN2CCC3(CN(C(=O)O3)c3ccc(cc3)C(O)...  \n",
       "\n",
       "[768 rows x 6 columns]"
      ]
     },
     "execution_count": 26,
     "metadata": {},
     "output_type": "execute_result"
    }
   ],
   "source": [
    "results_df"
   ]
  },
  {
   "cell_type": "code",
   "execution_count": 27,
   "metadata": {},
   "outputs": [],
   "source": [
    "result_dir = \"results/molformer_dgsm\"\n",
    "os.makedirs(result_dir, exist_ok=True)"
   ]
  },
  {
   "cell_type": "code",
   "execution_count": 28,
   "metadata": {},
   "outputs": [],
   "source": [
    "results_df.to_csv(os.path.join(result_dir, 'molformer_pca_results.csv'), index=False)"
   ]
  },
  {
   "cell_type": "code",
   "execution_count": 29,
   "metadata": {},
   "outputs": [],
   "source": [
    "np.save(os.path.join(result_dir, 'molformer_eigenvectors.npy'), eigenvectors)"
   ]
  },
  {
   "cell_type": "code",
   "execution_count": null,
   "metadata": {},
   "outputs": [],
   "source": []
  },
  {
   "cell_type": "code",
   "execution_count": null,
   "metadata": {},
   "outputs": [],
   "source": []
  }
 ],
 "metadata": {
  "kernelspec": {
   "display_name": "eigenmol",
   "language": "python",
   "name": "python3"
  },
  "language_info": {
   "codemirror_mode": {
    "name": "ipython",
    "version": 3
   },
   "file_extension": ".py",
   "mimetype": "text/x-python",
   "name": "python",
   "nbconvert_exporter": "python",
   "pygments_lexer": "ipython3",
   "version": "3.10.15"
  }
 },
 "nbformat": 4,
 "nbformat_minor": 2
}
