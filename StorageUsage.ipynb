{
 "cells": [
  {
   "cell_type": "code",
   "execution_count": 1,
   "metadata": {},
   "outputs": [],
   "source": [
    "import numpy as np\n",
    "from datasets.tensor_storage import TensorStorage\n",
    "from tqdm import tqdm\n",
    "from sklearn.decomposition import IncrementalPCA\n",
    "import torch\n",
    "import pandas as pd"
   ]
  },
  {
   "cell_type": "code",
   "execution_count": null,
   "metadata": {},
   "outputs": [
    {
     "data": {
      "text/plain": [
       "<torch._C.Generator at 0x7f980439c1f0>"
      ]
     },
     "execution_count": 2,
     "metadata": {},
     "output_type": "execute_result"
    }
   ],
   "source": [
    "np.random.seed(42)\n",
    "torch.manual_seed(42)  "
   ]
  },
  {
   "cell_type": "code",
   "execution_count": 3,
   "metadata": {},
   "outputs": [
    {
     "name": "stderr",
     "output_type": "stream",
     "text": [
      "100%|██████████| 1576904/1576904 [00:06<00:00, 251213.91it/s]\n"
     ]
    },
    {
     "data": {
      "text/plain": [
       "(1, 300)"
      ]
     },
     "execution_count": 3,
     "metadata": {},
     "output_type": "execute_result"
    }
   ],
   "source": [
    "store = TensorStorage(\"storages/mol2vec_dgsm\")\n",
    "\n",
    "for i in tqdm(range(len(store))):\n",
    "    _ = store[i]\n",
    "_.shape"
   ]
  },
  {
   "cell_type": "code",
   "execution_count": 4,
   "metadata": {},
   "outputs": [],
   "source": [
    "metadata_df = store.load_metadata_table()"
   ]
  },
  {
   "cell_type": "code",
   "execution_count": 5,
   "metadata": {},
   "outputs": [
    {
     "data": {
      "text/html": [
       "<div>\n",
       "<style scoped>\n",
       "    .dataframe tbody tr th:only-of-type {\n",
       "        vertical-align: middle;\n",
       "    }\n",
       "\n",
       "    .dataframe tbody tr th {\n",
       "        vertical-align: top;\n",
       "    }\n",
       "\n",
       "    .dataframe thead th {\n",
       "        text-align: right;\n",
       "    }\n",
       "</style>\n",
       "<table border=\"1\" class=\"dataframe\">\n",
       "  <thead>\n",
       "    <tr style=\"text-align: right;\">\n",
       "      <th></th>\n",
       "      <th>smiles</th>\n",
       "      <th>success</th>\n",
       "      <th>index</th>\n",
       "      <th>tensor_idx</th>\n",
       "    </tr>\n",
       "  </thead>\n",
       "  <tbody>\n",
       "    <tr>\n",
       "      <th>0</th>\n",
       "      <td>CCO</td>\n",
       "      <td>True</td>\n",
       "      <td>0</td>\n",
       "      <td>0</td>\n",
       "    </tr>\n",
       "    <tr>\n",
       "      <th>1</th>\n",
       "      <td>C</td>\n",
       "      <td>True</td>\n",
       "      <td>1</td>\n",
       "      <td>1</td>\n",
       "    </tr>\n",
       "    <tr>\n",
       "      <th>2</th>\n",
       "      <td>CO</td>\n",
       "      <td>True</td>\n",
       "      <td>2</td>\n",
       "      <td>2</td>\n",
       "    </tr>\n",
       "    <tr>\n",
       "      <th>3</th>\n",
       "      <td>NCCS</td>\n",
       "      <td>True</td>\n",
       "      <td>3</td>\n",
       "      <td>3</td>\n",
       "    </tr>\n",
       "    <tr>\n",
       "      <th>4</th>\n",
       "      <td>NCCN</td>\n",
       "      <td>True</td>\n",
       "      <td>4</td>\n",
       "      <td>4</td>\n",
       "    </tr>\n",
       "  </tbody>\n",
       "</table>\n",
       "</div>"
      ],
      "text/plain": [
       "  smiles  success  index  tensor_idx\n",
       "0    CCO     True      0           0\n",
       "1      C     True      1           1\n",
       "2     CO     True      2           2\n",
       "3   NCCS     True      3           3\n",
       "4   NCCN     True      4           4"
      ]
     },
     "execution_count": 5,
     "metadata": {},
     "output_type": "execute_result"
    }
   ],
   "source": [
    "metadata_df.head() # success - was there error during embedding creation"
   ]
  },
  {
   "cell_type": "code",
   "execution_count": 6,
   "metadata": {},
   "outputs": [],
   "source": [
    "non_error_index = metadata_df[metadata_df['success']==True].index"
   ]
  },
  {
   "cell_type": "code",
   "execution_count": 7,
   "metadata": {},
   "outputs": [
    {
     "data": {
      "text/plain": [
       "(1575727, 1576904)"
      ]
     },
     "execution_count": 7,
     "metadata": {},
     "output_type": "execute_result"
    }
   ],
   "source": [
    "len(non_error_index), metadata_df.shape[0]"
   ]
  },
  {
   "cell_type": "code",
   "execution_count": 8,
   "metadata": {},
   "outputs": [
    {
     "name": "stderr",
     "output_type": "stream",
     "text": [
      "100%|██████████| 1575727/1575727 [00:06<00:00, 250266.96it/s]\n"
     ]
    }
   ],
   "source": [
    "for i in tqdm(non_error_index):\n",
    "    _ = store[i]"
   ]
  },
  {
   "cell_type": "code",
   "execution_count": 9,
   "metadata": {},
   "outputs": [],
   "source": [
    "def load_embeddings_batch(store, non_error_index, batch_size=1000):\n",
    "    \"\"\"\n",
    "    Load embeddings in batches and yield them\n",
    "    \"\"\"\n",
    "    for i in range(0, len(non_error_index), batch_size):\n",
    "        batch_indices = non_error_index[i:i + batch_size]\n",
    "        batch_embeddings = []\n",
    "        \n",
    "        for idx in batch_indices:\n",
    "            emb = store[idx]\n",
    "            if isinstance(emb, torch.Tensor):\n",
    "                emb = emb.numpy()\n",
    "            batch_embeddings.append(emb.reshape(-1))\n",
    "            \n",
    "        yield np.array(batch_embeddings)"
   ]
  },
  {
   "cell_type": "code",
   "execution_count": 11,
   "metadata": {},
   "outputs": [],
   "source": [
    "def compute_principal_components(store, non_error_index, batch_size=1000):\n",
    "    \"\"\"\n",
    "    Compute all 300 principal components of the embedding space using IncrementalPCA\n",
    "    \"\"\"\n",
    "    # Initialize IncrementalPCA with full dimensionality\n",
    "    ipca = IncrementalPCA(n_components=300)  # Get all 300 components\n",
    "    \n",
    "    # Fit PCA incrementally\n",
    "    for batch in tqdm(load_embeddings_batch(store, non_error_index, batch_size), \n",
    "                     desc=\"Computing PCA\", \n",
    "                     total=len(non_error_index)//batch_size + 1):\n",
    "        ipca.partial_fit(batch)\n",
    "    \n",
    "    # Get explained variance ratio and eigenvectors\n",
    "    explained_variance_ratio = ipca.explained_variance_ratio_\n",
    "    eigenvectors = ipca.components_  # Shape will be (300, 300)\n",
    "    \n",
    "    return eigenvectors, explained_variance_ratio, ipca"
   ]
  },
  {
   "cell_type": "code",
   "execution_count": 12,
   "metadata": {},
   "outputs": [],
   "source": [
    "def find_nearest_molecules(store, non_error_index, eigenvectors):\n",
    "    \"\"\"\n",
    "    Find the nearest molecules to each eigenvector using KDTree for efficient nearest neighbor search\n",
    "    \"\"\"\n",
    "    from sklearn.neighbors import KDTree\n",
    "    \n",
    "    # First, collect all embeddings into a matrix\n",
    "    print(\"Building embeddings matrix...\")\n",
    "    all_embeddings = []\n",
    "    for idx in tqdm(non_error_index, desc=\"Loading embeddings\"):\n",
    "        emb = store[idx]\n",
    "        if isinstance(emb, torch.Tensor):\n",
    "            emb = emb.numpy()\n",
    "        emb = emb.reshape(-1)\n",
    "        \n",
    "        # Normalize embedding\n",
    "        emb = emb / np.linalg.norm(emb)\n",
    "        all_embeddings.append(emb)\n",
    "    \n",
    "    all_embeddings = np.array(all_embeddings)\n",
    "    \n",
    "    # Print diagnostics for embeddings\n",
    "    print(\"\\nEmbeddings statistics:\")\n",
    "    print(f\"Shape: {all_embeddings.shape}\")\n",
    "    print(f\"Mean norm: {np.mean([np.linalg.norm(emb) for emb in all_embeddings])}\")\n",
    "    print(f\"Mean: {np.mean(all_embeddings)}\")\n",
    "    print(f\"Std: {np.std(all_embeddings)}\")\n",
    "    \n",
    "    # Normalize eigenvectors\n",
    "    print(\"\\nEigenvectors statistics before normalization:\")\n",
    "    print(f\"Shape: {eigenvectors.shape}\")\n",
    "    print(f\"Mean norm: {np.mean([np.linalg.norm(vec) for vec in eigenvectors])}\")\n",
    "    print(f\"Mean: {np.mean(eigenvectors)}\")\n",
    "    print(f\"Std: {np.std(eigenvectors)}\")\n",
    "    \n",
    "    normalized_eigenvectors = eigenvectors.copy()\n",
    "    for i in range(len(normalized_eigenvectors)):\n",
    "        normalized_eigenvectors[i] = normalized_eigenvectors[i] / np.linalg.norm(normalized_eigenvectors[i])\n",
    "    \n",
    "    print(\"\\nEigenvectors statistics after normalization:\")\n",
    "    print(f\"Mean norm: {np.mean([np.linalg.norm(vec) for vec in normalized_eigenvectors])}\")\n",
    "    \n",
    "    # Build KDTree\n",
    "    print(\"\\nBuilding KDTree...\")\n",
    "    tree = KDTree(all_embeddings)\n",
    "    \n",
    "    # Query tree for each eigenvector\n",
    "    print(\"Finding nearest neighbors...\")\n",
    "    nearest_molecules = []\n",
    "    nearest_distances = []\n",
    "    \n",
    "    for eigenvector in tqdm(normalized_eigenvectors, desc=\"Querying KDTree\"):\n",
    "        distances, indices = tree.query(eigenvector.reshape(1, -1), k=5)  # Get top 5 for debugging\n",
    "        \n",
    "        # Print first few matches for debugging\n",
    "        if len(nearest_molecules) < 3:\n",
    "            print(f\"\\nEigenvector {len(nearest_molecules)} top matches:\")\n",
    "            for d, i in zip(distances[0], indices[0]):\n",
    "                orig_idx = non_error_index[i]\n",
    "                print(f\"Distance: {d:.4f}, SMILES: {metadata_df.iloc[orig_idx]['smiles']}\")\n",
    "        \n",
    "        nearest_molecules.append(non_error_index[indices[0][0]])\n",
    "        nearest_distances.append(distances[0][0])\n",
    "    \n",
    "    return nearest_molecules, nearest_distances\n"
   ]
  },
  {
   "cell_type": "code",
   "execution_count": 14,
   "metadata": {},
   "outputs": [],
   "source": [
    "non_error_index = metadata_df[metadata_df['success']==True].index.values"
   ]
  },
  {
   "cell_type": "code",
   "execution_count": 15,
   "metadata": {},
   "outputs": [
    {
     "name": "stdout",
     "output_type": "stream",
     "text": [
      "Computing principal components...\n"
     ]
    },
    {
     "name": "stderr",
     "output_type": "stream",
     "text": [
      "Computing PCA: 100%|██████████| 1576/1576 [01:13<00:00, 21.49it/s]\n"
     ]
    }
   ],
   "source": [
    "print(\"Computing principal components...\")\n",
    "eigenvectors, explained_variance_ratio, ipca = compute_principal_components(store, non_error_index)"
   ]
  },
  {
   "cell_type": "code",
   "execution_count": 16,
   "metadata": {},
   "outputs": [],
   "source": [
    "assert eigenvectors.shape == (300, 300), f\"Expected shape (300, 300), got {eigenvectors.shape}\""
   ]
  },
  {
   "cell_type": "code",
   "execution_count": 17,
   "metadata": {},
   "outputs": [
    {
     "name": "stdout",
     "output_type": "stream",
     "text": [
      "Finding nearest molecules to eigenvectors...\n",
      "Building embeddings matrix...\n"
     ]
    },
    {
     "name": "stderr",
     "output_type": "stream",
     "text": [
      "Loading embeddings:   0%|          | 0/1575727 [00:00<?, ?it/s]"
     ]
    },
    {
     "name": "stderr",
     "output_type": "stream",
     "text": [
      "Loading embeddings: 100%|██████████| 1575727/1575727 [00:14<00:00, 110814.08it/s]\n"
     ]
    },
    {
     "name": "stdout",
     "output_type": "stream",
     "text": [
      "\n",
      "Embeddings statistics:\n",
      "Shape: (1575727, 300)\n",
      "Mean norm: 1.0\n",
      "Mean: 0.0023550980258733034\n",
      "Std: 0.05768771097064018\n",
      "\n",
      "Eigenvectors statistics before normalization:\n",
      "Shape: (300, 300)\n",
      "Mean norm: 1.0\n",
      "Mean: 0.0003786748517078929\n",
      "Std: 0.05773378507156808\n",
      "\n",
      "Eigenvectors statistics after normalization:\n",
      "Mean norm: 1.0\n",
      "\n",
      "Building KDTree...\n",
      "Finding nearest neighbors...\n"
     ]
    },
    {
     "name": "stderr",
     "output_type": "stream",
     "text": [
      "Querying KDTree:   0%|          | 0/300 [00:00<?, ?it/s]"
     ]
    },
    {
     "name": "stdout",
     "output_type": "stream",
     "text": [
      "\n",
      "Eigenvector 0 top matches:\n",
      "Distance: 1.5871, SMILES: F[P-](F)(F)(F)(F)F\n",
      "Distance: 1.5957, SMILES: IC(I)=C(I)I\n",
      "Distance: 1.6127, SMILES: FS(F)(F)(F)(F)F\n",
      "Distance: 1.6423, SMILES: S=C1SC2=C(S1)SC(=S)S2\n",
      "Distance: 1.6499, SMILES: ClC12C3(Cl)C4(Cl)C5(Cl)C(Cl)(C1(Cl)C4(Cl)Cl)C2(Cl)C(Cl)(Cl)C35Cl\n"
     ]
    },
    {
     "name": "stderr",
     "output_type": "stream",
     "text": [
      "Querying KDTree:   1%|          | 2/300 [00:00<01:14,  4.00it/s]"
     ]
    },
    {
     "name": "stdout",
     "output_type": "stream",
     "text": [
      "\n",
      "Eigenvector 1 top matches:\n",
      "Distance: 1.2769, SMILES: C\n",
      "Distance: 1.3089, SMILES: C=C\n",
      "Distance: 1.3172, SMILES: CC\n",
      "Distance: 1.3173, SMILES: C1CCCCCCCCCCC1\n",
      "Distance: 1.3173, SMILES: C1CCCCCCC1\n"
     ]
    },
    {
     "name": "stderr",
     "output_type": "stream",
     "text": [
      "Querying KDTree:   1%|          | 3/300 [00:00<01:26,  3.44it/s]"
     ]
    },
    {
     "name": "stdout",
     "output_type": "stream",
     "text": [
      "\n",
      "Eigenvector 2 top matches:\n",
      "Distance: 1.1935, SMILES: [O-][n+]1onc2cc(Cl)c3nonc3c12\n",
      "Distance: 1.1940, SMILES: Clc1nc(Cl)c2nc(Cl)nc(Cl)c2n1\n",
      "Distance: 1.1951, SMILES: Clc1c(Cl)c(Cl)c2Oc3c(Cl)c(Cl)c(Cl)c(Cl)c3Oc2c1Cl\n",
      "Distance: 1.1996, SMILES: Clc1nc(Cl)nc(Cl)n1\n",
      "Distance: 1.2027, SMILES: Clc1cc2Oc3c(Cl)c(Cl)c(Cl)c(Cl)c3Oc2cc1Cl\n"
     ]
    },
    {
     "name": "stderr",
     "output_type": "stream",
     "text": [
      "Querying KDTree: 100%|██████████| 300/300 [04:25<00:00,  1.13it/s]\n"
     ]
    }
   ],
   "source": [
    "print(\"Finding nearest molecules to eigenvectors...\")\n",
    "nearest_molecules, nearest_distances = find_nearest_molecules(store, non_error_index, eigenvectors)"
   ]
  },
  {
   "cell_type": "code",
   "execution_count": 18,
   "metadata": {},
   "outputs": [],
   "source": [
    "results_df = pd.DataFrame({\n",
    "        'eigenvector_idx': range(len(nearest_molecules)),\n",
    "        'nearest_molecule_idx': nearest_molecules,\n",
    "        'distance': nearest_distances,\n",
    "        'explained_variance_ratio': explained_variance_ratio,\n",
    "        'cumulative_variance_ratio': np.cumsum(explained_variance_ratio),\n",
    "        'smiles': [metadata_df.iloc[idx]['smiles'] for idx in nearest_molecules]\n",
    "    })"
   ]
  },
  {
   "cell_type": "code",
   "execution_count": 19,
   "metadata": {},
   "outputs": [],
   "source": [
    "results_df = results_df.sort_values('explained_variance_ratio', ascending=False)"
   ]
  },
  {
   "cell_type": "code",
   "execution_count": 20,
   "metadata": {},
   "outputs": [
    {
     "data": {
      "text/html": [
       "<div>\n",
       "<style scoped>\n",
       "    .dataframe tbody tr th:only-of-type {\n",
       "        vertical-align: middle;\n",
       "    }\n",
       "\n",
       "    .dataframe tbody tr th {\n",
       "        vertical-align: top;\n",
       "    }\n",
       "\n",
       "    .dataframe thead th {\n",
       "        text-align: right;\n",
       "    }\n",
       "</style>\n",
       "<table border=\"1\" class=\"dataframe\">\n",
       "  <thead>\n",
       "    <tr style=\"text-align: right;\">\n",
       "      <th></th>\n",
       "      <th>eigenvector_idx</th>\n",
       "      <th>nearest_molecule_idx</th>\n",
       "      <th>distance</th>\n",
       "      <th>explained_variance_ratio</th>\n",
       "      <th>cumulative_variance_ratio</th>\n",
       "      <th>smiles</th>\n",
       "    </tr>\n",
       "  </thead>\n",
       "  <tbody>\n",
       "    <tr>\n",
       "      <th>0</th>\n",
       "      <td>0</td>\n",
       "      <td>8636</td>\n",
       "      <td>1.587104</td>\n",
       "      <td>9.638863e-01</td>\n",
       "      <td>0.963886</td>\n",
       "      <td>F[P-](F)(F)(F)(F)F</td>\n",
       "    </tr>\n",
       "    <tr>\n",
       "      <th>1</th>\n",
       "      <td>1</td>\n",
       "      <td>1</td>\n",
       "      <td>1.276939</td>\n",
       "      <td>1.030605e-02</td>\n",
       "      <td>0.974192</td>\n",
       "      <td>C</td>\n",
       "    </tr>\n",
       "    <tr>\n",
       "      <th>2</th>\n",
       "      <td>2</td>\n",
       "      <td>129427</td>\n",
       "      <td>1.193488</td>\n",
       "      <td>6.477860e-03</td>\n",
       "      <td>0.980670</td>\n",
       "      <td>[O-][n+]1onc2cc(Cl)c3nonc3c12</td>\n",
       "    </tr>\n",
       "    <tr>\n",
       "      <th>3</th>\n",
       "      <td>3</td>\n",
       "      <td>33671</td>\n",
       "      <td>1.262933</td>\n",
       "      <td>3.138154e-03</td>\n",
       "      <td>0.983808</td>\n",
       "      <td>FC(F)(F)c1ccc(Cl)cc1Cl</td>\n",
       "    </tr>\n",
       "    <tr>\n",
       "      <th>4</th>\n",
       "      <td>4</td>\n",
       "      <td>3237</td>\n",
       "      <td>1.243460</td>\n",
       "      <td>2.084765e-03</td>\n",
       "      <td>0.985893</td>\n",
       "      <td>ClP(Cl)(Cl)=O</td>\n",
       "    </tr>\n",
       "    <tr>\n",
       "      <th>...</th>\n",
       "      <td>...</td>\n",
       "      <td>...</td>\n",
       "      <td>...</td>\n",
       "      <td>...</td>\n",
       "      <td>...</td>\n",
       "      <td>...</td>\n",
       "    </tr>\n",
       "    <tr>\n",
       "      <th>295</th>\n",
       "      <td>295</td>\n",
       "      <td>155</td>\n",
       "      <td>1.396013</td>\n",
       "      <td>9.383385e-07</td>\n",
       "      <td>0.999997</td>\n",
       "      <td>O=C=O</td>\n",
       "    </tr>\n",
       "    <tr>\n",
       "      <th>296</th>\n",
       "      <td>296</td>\n",
       "      <td>31</td>\n",
       "      <td>1.377199</td>\n",
       "      <td>9.101521e-07</td>\n",
       "      <td>0.999998</td>\n",
       "      <td>N#N</td>\n",
       "    </tr>\n",
       "    <tr>\n",
       "      <th>297</th>\n",
       "      <td>297</td>\n",
       "      <td>9050</td>\n",
       "      <td>1.341068</td>\n",
       "      <td>8.582587e-07</td>\n",
       "      <td>0.999998</td>\n",
       "      <td>ClP(Cl)(Cl)(Cl)Cl</td>\n",
       "    </tr>\n",
       "    <tr>\n",
       "      <th>298</th>\n",
       "      <td>298</td>\n",
       "      <td>5261</td>\n",
       "      <td>1.391343</td>\n",
       "      <td>7.972005e-07</td>\n",
       "      <td>0.999999</td>\n",
       "      <td>O[Cl](=O)(=O)=O</td>\n",
       "    </tr>\n",
       "    <tr>\n",
       "      <th>299</th>\n",
       "      <td>299</td>\n",
       "      <td>82944</td>\n",
       "      <td>1.384141</td>\n",
       "      <td>7.833605e-07</td>\n",
       "      <td>1.000000</td>\n",
       "      <td>O=[I](=O)c1ccc(cc1)[I](=O)=O</td>\n",
       "    </tr>\n",
       "  </tbody>\n",
       "</table>\n",
       "<p>300 rows × 6 columns</p>\n",
       "</div>"
      ],
      "text/plain": [
       "     eigenvector_idx  nearest_molecule_idx  distance  \\\n",
       "0                  0                  8636  1.587104   \n",
       "1                  1                     1  1.276939   \n",
       "2                  2                129427  1.193488   \n",
       "3                  3                 33671  1.262933   \n",
       "4                  4                  3237  1.243460   \n",
       "..               ...                   ...       ...   \n",
       "295              295                   155  1.396013   \n",
       "296              296                    31  1.377199   \n",
       "297              297                  9050  1.341068   \n",
       "298              298                  5261  1.391343   \n",
       "299              299                 82944  1.384141   \n",
       "\n",
       "     explained_variance_ratio  cumulative_variance_ratio  \\\n",
       "0                9.638863e-01                   0.963886   \n",
       "1                1.030605e-02                   0.974192   \n",
       "2                6.477860e-03                   0.980670   \n",
       "3                3.138154e-03                   0.983808   \n",
       "4                2.084765e-03                   0.985893   \n",
       "..                        ...                        ...   \n",
       "295              9.383385e-07                   0.999997   \n",
       "296              9.101521e-07                   0.999998   \n",
       "297              8.582587e-07                   0.999998   \n",
       "298              7.972005e-07                   0.999999   \n",
       "299              7.833605e-07                   1.000000   \n",
       "\n",
       "                            smiles  \n",
       "0               F[P-](F)(F)(F)(F)F  \n",
       "1                                C  \n",
       "2    [O-][n+]1onc2cc(Cl)c3nonc3c12  \n",
       "3           FC(F)(F)c1ccc(Cl)cc1Cl  \n",
       "4                    ClP(Cl)(Cl)=O  \n",
       "..                             ...  \n",
       "295                          O=C=O  \n",
       "296                            N#N  \n",
       "297              ClP(Cl)(Cl)(Cl)Cl  \n",
       "298                O[Cl](=O)(=O)=O  \n",
       "299   O=[I](=O)c1ccc(cc1)[I](=O)=O  \n",
       "\n",
       "[300 rows x 6 columns]"
      ]
     },
     "execution_count": 20,
     "metadata": {},
     "output_type": "execute_result"
    }
   ],
   "source": [
    "results_df"
   ]
  },
  {
   "cell_type": "code",
   "execution_count": 21,
   "metadata": {},
   "outputs": [
    {
     "data": {
      "text/plain": [
       "[8636,\n",
       " 1,\n",
       " 129427,\n",
       " 33671,\n",
       " 3237,\n",
       " 19916,\n",
       " 1446112,\n",
       " 704526,\n",
       " 222696,\n",
       " 179,\n",
       " 3281,\n",
       " 191925,\n",
       " 30321,\n",
       " 1512599,\n",
       " 1220,\n",
       " 15570,\n",
       " 222696,\n",
       " 15570,\n",
       " 884340,\n",
       " 83240,\n",
       " 25579,\n",
       " 11438,\n",
       " 2081,\n",
       " 25579,\n",
       " 17225,\n",
       " 15736,\n",
       " 2399,\n",
       " 11438,\n",
       " 23727,\n",
       " 123140,\n",
       " 277623,\n",
       " 123163,\n",
       " 25579,\n",
       " 4280,\n",
       " 163595,\n",
       " 84258,\n",
       " 243,\n",
       " 12071,\n",
       " 1793,\n",
       " 719576,\n",
       " 15570,\n",
       " 704526,\n",
       " 1091331,\n",
       " 1793,\n",
       " 11744,\n",
       " 1249,\n",
       " 156,\n",
       " 56697,\n",
       " 34706,\n",
       " 85655,\n",
       " 2081,\n",
       " 83,\n",
       " 155,\n",
       " 243,\n",
       " 1564406,\n",
       " 56697,\n",
       " 1497,\n",
       " 11967,\n",
       " 23727,\n",
       " 704526,\n",
       " 2081,\n",
       " 1091331,\n",
       " 1249,\n",
       " 156,\n",
       " 11967,\n",
       " 15736,\n",
       " 86620,\n",
       " 56697,\n",
       " 155,\n",
       " 243,\n",
       " 704526,\n",
       " 308,\n",
       " 2237,\n",
       " 243,\n",
       " 11967,\n",
       " 1220,\n",
       " 1512230,\n",
       " 11967,\n",
       " 29012,\n",
       " 783219,\n",
       " 2081,\n",
       " 1091331,\n",
       " 56697,\n",
       " 243,\n",
       " 1564406,\n",
       " 2081,\n",
       " 31369,\n",
       " 5261,\n",
       " 15734,\n",
       " 11967,\n",
       " 1497,\n",
       " 145545,\n",
       " 2081,\n",
       " 2081,\n",
       " 1497,\n",
       " 5216,\n",
       " 8636,\n",
       " 1497,\n",
       " 1091331,\n",
       " 8636,\n",
       " 4280,\n",
       " 1300,\n",
       " 5216,\n",
       " 14761,\n",
       " 12187,\n",
       " 85655,\n",
       " 155,\n",
       " 617,\n",
       " 18826,\n",
       " 756865,\n",
       " 1497,\n",
       " 155,\n",
       " 172591,\n",
       " 11967,\n",
       " 1439694,\n",
       " 963,\n",
       " 3190,\n",
       " 3190,\n",
       " 5216,\n",
       " 8636,\n",
       " 1793,\n",
       " 25579,\n",
       " 10754,\n",
       " 1340522,\n",
       " 103068,\n",
       " 1220,\n",
       " 145545,\n",
       " 10862,\n",
       " 3815,\n",
       " 1160,\n",
       " 3190,\n",
       " 56621,\n",
       " 5261,\n",
       " 3190,\n",
       " 145545,\n",
       " 5216,\n",
       " 1793,\n",
       " 75445,\n",
       " 126982,\n",
       " 5216,\n",
       " 5216,\n",
       " 5216,\n",
       " 1220,\n",
       " 8636,\n",
       " 1793,\n",
       " 1260,\n",
       " 1260,\n",
       " 783219,\n",
       " 2081,\n",
       " 2081,\n",
       " 5216,\n",
       " 10862,\n",
       " 140655,\n",
       " 2081,\n",
       " 15736,\n",
       " 1220,\n",
       " 1793,\n",
       " 1793,\n",
       " 5216,\n",
       " 704526,\n",
       " 15736,\n",
       " 156,\n",
       " 1793,\n",
       " 91523,\n",
       " 1793,\n",
       " 8636,\n",
       " 5261,\n",
       " 103068,\n",
       " 15705,\n",
       " 2081,\n",
       " 704526,\n",
       " 426821,\n",
       " 5216,\n",
       " 5216,\n",
       " 1249,\n",
       " 156,\n",
       " 963,\n",
       " 450849,\n",
       " 5261,\n",
       " 450849,\n",
       " 1220,\n",
       " 91523,\n",
       " 8636,\n",
       " 5216,\n",
       " 1220,\n",
       " 2081,\n",
       " 5216,\n",
       " 562,\n",
       " 5216,\n",
       " 1116682,\n",
       " 1091331,\n",
       " 5261,\n",
       " 1793,\n",
       " 426821,\n",
       " 1220,\n",
       " 145545,\n",
       " 1300,\n",
       " 5216,\n",
       " 5216,\n",
       " 5261,\n",
       " 5261,\n",
       " 3815,\n",
       " 25579,\n",
       " 155,\n",
       " 1340522,\n",
       " 8636,\n",
       " 15736,\n",
       " 8636,\n",
       " 8636,\n",
       " 156,\n",
       " 2081,\n",
       " 5216,\n",
       " 8636,\n",
       " 91523,\n",
       " 1793,\n",
       " 5261,\n",
       " 84258,\n",
       " 186779,\n",
       " 8636,\n",
       " 8636,\n",
       " 8636,\n",
       " 5261,\n",
       " 2081,\n",
       " 56621,\n",
       " 103068,\n",
       " 1249,\n",
       " 5216,\n",
       " 2081,\n",
       " 156,\n",
       " 3190,\n",
       " 2081,\n",
       " 243,\n",
       " 1249,\n",
       " 1249,\n",
       " 155,\n",
       " 8636,\n",
       " 31,\n",
       " 704526,\n",
       " 5216,\n",
       " 15736,\n",
       " 156,\n",
       " 243,\n",
       " 2081,\n",
       " 5216,\n",
       " 8636,\n",
       " 155,\n",
       " 4040,\n",
       " 426821,\n",
       " 156,\n",
       " 5261,\n",
       " 5261,\n",
       " 2081,\n",
       " 31,\n",
       " 5261,\n",
       " 3190,\n",
       " 155,\n",
       " 1220,\n",
       " 7586,\n",
       " 8636,\n",
       " 1259114,\n",
       " 31,\n",
       " 8636,\n",
       " 51587,\n",
       " 56621,\n",
       " 617,\n",
       " 426821,\n",
       " 9050,\n",
       " 2081,\n",
       " 15705,\n",
       " 8636,\n",
       " 145545,\n",
       " 8636,\n",
       " 1249,\n",
       " 1793,\n",
       " 1793,\n",
       " 9050,\n",
       " 31,\n",
       " 1220,\n",
       " 5261,\n",
       " 31,\n",
       " 8636,\n",
       " 963943,\n",
       " 8636,\n",
       " 5216,\n",
       " 9050,\n",
       " 15736,\n",
       " 1220,\n",
       " 4040,\n",
       " 243,\n",
       " 8636,\n",
       " 9050,\n",
       " 704526,\n",
       " 617,\n",
       " 9050,\n",
       " 12071,\n",
       " 155,\n",
       " 31,\n",
       " 9050,\n",
       " 5261,\n",
       " 82944]"
      ]
     },
     "execution_count": 21,
     "metadata": {},
     "output_type": "execute_result"
    }
   ],
   "source": [
    "nearest_molecules"
   ]
  },
  {
   "cell_type": "code",
   "execution_count": 21,
   "metadata": {},
   "outputs": [],
   "source": [
    "results_df.to_csv('mol_pca_results.csv', index=False)"
   ]
  },
  {
   "cell_type": "code",
   "execution_count": 22,
   "metadata": {},
   "outputs": [],
   "source": [
    "np.save('m2v_eigenvectors.npy', eigenvectors)"
   ]
  }
 ],
 "metadata": {
  "kernelspec": {
   "display_name": "eigenmol",
   "language": "python",
   "name": "python3"
  },
  "language_info": {
   "codemirror_mode": {
    "name": "ipython",
    "version": 3
   },
   "file_extension": ".py",
   "mimetype": "text/x-python",
   "name": "python",
   "nbconvert_exporter": "python",
   "pygments_lexer": "ipython3",
   "version": "3.10.15"
  }
 },
 "nbformat": 4,
 "nbformat_minor": 2
}
