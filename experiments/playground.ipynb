{
 "cells": [
  {
   "cell_type": "code",
   "execution_count": 2,
   "metadata": {},
   "outputs": [],
   "source": [
    "import numpy as np\n",
    "import numpy.linalg as lng\n",
    "import matplotlib.pyplot as plt\n",
    "import pandas as pd\n",
    "import rdkit"
   ]
  },
  {
   "cell_type": "markdown",
   "metadata": {},
   "source": [
    "Space generation"
   ]
  },
  {
   "cell_type": "code",
   "execution_count": 3,
   "metadata": {},
   "outputs": [
    {
     "data": {
      "text/plain": [
       "(300,)"
      ]
     },
     "execution_count": 3,
     "metadata": {},
     "output_type": "execute_result"
    }
   ],
   "source": [
    "M, N = 1_000, 300\n",
    "np.random.seed(42)\n",
    "vectors = np.random.rand(M, N)\n",
    "vectors[0].shape"
   ]
  },
  {
   "cell_type": "markdown",
   "metadata": {},
   "source": [
    "Basis generation"
   ]
  },
  {
   "cell_type": "code",
   "execution_count": 4,
   "metadata": {},
   "outputs": [
    {
     "data": {
      "text/plain": [
       "(300,)"
      ]
     },
     "execution_count": 4,
     "metadata": {},
     "output_type": "execute_result"
    }
   ],
   "source": [
    "basis = np.eye(N)\n",
    "basis[0].shape"
   ]
  },
  {
   "cell_type": "markdown",
   "metadata": {},
   "source": [
    "Let's find basis coefficients for every vector from `vector`."
   ]
  },
  {
   "cell_type": "code",
   "execution_count": 5,
   "metadata": {},
   "outputs": [],
   "source": [
    "c = lng.inv(basis) @ vectors.T\n",
    "c = c.T"
   ]
  },
  {
   "cell_type": "code",
   "execution_count": 63,
   "metadata": {},
   "outputs": [
    {
     "data": {
      "text/plain": [
       "(7.665058170563515, 7.665058170563515)"
      ]
     },
     "execution_count": 63,
     "metadata": {},
     "output_type": "execute_result"
    }
   ],
   "source": [
    "x, y, z = vectors[0], vectors[1], vectors[2]\n",
    "c_x, c_y, c_z = c[0], c[1], c[2]\n",
    "lng.norm(x - y), lng.norm(c_x - c_y)"
   ]
  },
  {
   "cell_type": "markdown",
   "metadata": {},
   "source": [
    "RDKit"
   ]
  },
  {
   "cell_type": "code",
   "execution_count": 20,
   "metadata": {},
   "outputs": [
    {
     "name": "stdout",
     "output_type": "stream",
     "text": [
      "Tanimoto Similarity: 0.2\n"
     ]
    }
   ],
   "source": [
    "from rdkit import Chem\n",
    "from rdkit.Chem import DataStructs\n",
    "\n",
    "# Function to compute Tanimoto similarity\n",
    "def compute_tanimoto_similarity(smi1, smi2):\n",
    "    # Convert SMILES strings to RDKit molecules\n",
    "    mol1 = Chem.MolFromSmiles(smi1)\n",
    "    mol2 = Chem.MolFromSmiles(smi2)\n",
    "    \n",
    "    if not mol1 or not mol2:\n",
    "        raise ValueError(\"Invalid SMILES string(s).\")\n",
    "    \n",
    "    # Generate Morgan fingerprints (ECFP4)\n",
    "    fp1 = Chem.RDKFingerprint(mol1, maxPath=15)\n",
    "    fp2 = Chem.RDKFingerprint(mol2, maxPath=15)\n",
    "    \n",
    "    # Compute Tanimoto similarity\n",
    "    similarity = DataStructs.TanimotoSimilarity(fp1, fp2)\n",
    "    return similarity\n",
    "\n",
    "# Example usage\n",
    "smi_file1 = \"CCO\"  # Replace with your first SMILES string\n",
    "smi_file2 = \"CCN\"  # Replace with your second SMILES string\n",
    "\n",
    "similarity = compute_tanimoto_similarity(smi_file1, smi_file2)\n",
    "print(f\"Tanimoto Similarity: {similarity}\")"
   ]
  },
  {
   "cell_type": "code",
   "execution_count": 21,
   "metadata": {},
   "outputs": [
    {
     "data": {
      "image/png": "[encoded data removed]",
      "text/plain": [
       "<IPython.core.display.Image object>"
      ]
     },
     "execution_count": 21,
     "metadata": {},
     "output_type": "execute_result"
    }
   ],
   "source": [
    "from rdkit import Chem\n",
    "from rdkit.Chem import Draw\n",
    "\n",
    "# List of SMILES strings\n",
    "smiles_list = [smi_file1, smi_file2]\n",
    "\n",
    "# Convert SMILES to Mol objects\n",
    "mols = [Chem.MolFromSmiles(smi) for smi in smiles_list]\n",
    "\n",
    "# Display molecules in a grid\n",
    "img = Draw.MolsToGridImage(mols, molsPerRow=len(smiles_list), subImgSize=(200, 200), legends=[\"CCO\", \"CCN\"])\n",
    "img"
   ]
  },
  {
   "cell_type": "code",
   "execution_count": 22,
   "metadata": {},
   "outputs": [
    {
     "name": "stdout",
     "output_type": "stream",
     "text": [
      "Tanimoto Similarity: 0.2267080745341615\n"
     ]
    }
   ],
   "source": [
    "smi_1 = \"[H]N[C@@H]([C@@H](C)CC)C(=O)NCC(O)=O\"\n",
    "smi_2 = \"[H]N1CCC[C@H]1C(=O)N[C@@H](CC(N)=O)C(O)=O\"\n",
    "similarity = compute_tanimoto_similarity(smi_1, smi_2)\n",
    "print(f\"Tanimoto Similarity: {similarity}\")"
   ]
  },
  {
   "cell_type": "code",
   "execution_count": 23,
   "metadata": {},
   "outputs": [
    {
     "data": {
      "image/png": "[encoded data removed]",
      "text/plain": [
       "<IPython.core.display.Image object>"
      ]
     },
     "execution_count": 23,
     "metadata": {},
     "output_type": "execute_result"
    }
   ],
   "source": [
    "# List of SMILES strings\n",
    "smi_3 = 'CCO'\n",
    "smiles_list = [smi_1, smi_2, smi_3]\n",
    "\n",
    "# Convert SMILES to Mol objects\n",
    "mols = [Chem.MolFromSmiles(smi) for smi in smiles_list]\n",
    "\n",
    "# Display molecules in a grid\n",
    "img = Draw.MolsToGridImage(mols, molsPerRow=len(smiles_list), subImgSize=(200, 200))\n",
    "img"
   ]
  },
  {
   "cell_type": "code",
   "execution_count": 33,
   "metadata": {},
   "outputs": [],
   "source": [
    "def draw_list_smiles(list_smiles):\n",
    "    mols = [Chem.MolFromSmiles(smi) for smi in smiles_list]\n",
    "    img = Draw.MolsToGridImage(mols, molsPerRow=3,\n",
    "                             subImgSize=(200, 200), legends=[f\"SMILES {i}\" for i in range(len(list_smiles))])\n",
    "    return img"
   ]
  },
  {
   "cell_type": "code",
   "execution_count": 26,
   "metadata": {},
   "outputs": [],
   "source": [
    "smiles_list = [\n",
    "                \"CCO\", \"CCN\",\n",
    "                \"[H]N[C@@H]([C@@H](C)CC)C(=O)NCC(O)=O\", \n",
    "                \"[H]N1CCC[C@H]1C(=O)N[C@@H](CC(N)=O)C(O)=O\"\n",
    "                ]  # Replace with your list of SMILES strings"
   ]
  },
  {
   "cell_type": "code",
   "execution_count": 62,
   "metadata": {},
   "outputs": [
    {
     "data": {
      "text/plain": [
       "6"
      ]
     },
     "execution_count": 62,
     "metadata": {},
     "output_type": "execute_result"
    }
   ],
   "source": [
    "mols = [Chem.MolFromSmiles(smi) for smi in smiles_list]\n",
    "fingerprints = [Chem.RDKFingerprint(mol, maxPath=15) for mol in mols]\n",
    "x = np.zeros((1,))\n",
    "DataStructs.ConvertToNumpyArray(fingerprints[0], x)\n",
    "np.sum((x != 0))"
   ]
  },
  {
   "cell_type": "code",
   "execution_count": 51,
   "metadata": {},
   "outputs": [
    {
     "name": "stdout",
     "output_type": "stream",
     "text": [
      "Tanimoto similarity between SMILES 0 and 1: 0.2\n",
      "Tanimoto similarity between SMILES 0 and 2: 0.017964071856287425\n",
      "Tanimoto similarity between SMILES 0 and 3: 0.004815409309791332\n",
      "Tanimoto similarity between SMILES 1 and 2: 0.017964071856287425\n",
      "Tanimoto similarity between SMILES 1 and 3: 0.004815409309791332\n",
      "Tanimoto similarity between SMILES 2 and 3: 0.2267080745341615\n"
     ]
    }
   ],
   "source": [
    "from rdkit import Chem\n",
    "from rdkit.Chem import DataStructs, Draw\n",
    "from itertools import combinations\n",
    "\n",
    "# Function to compute Tanimoto similarity for all pairs in a list of SMILES\n",
    "def compute_tanimoto_similarity_for_pairs(smiles_list):\n",
    "    # Convert SMILES strings to RDKit Mol objects\n",
    "    mols = [Chem.MolFromSmiles(smi) for smi in smiles_list]\n",
    "    \n",
    "    # Filter out invalid SMILES\n",
    "    valid_mols = [mol for mol in mols if mol is not None]\n",
    "    if len(valid_mols) < len(mols):\n",
    "        print(\"Warning: Some SMILES strings were invalid and skipped.\")\n",
    "    \n",
    "    # Generate fingerprints for all valid molecules\n",
    "    fingerprints = [Chem.RDKFingerprint(mol, maxPath=15) for mol in valid_mols]\n",
    "    \n",
    "    # Compute Tanimoto similarity for all unique pairs\n",
    "    similarity_matrix = {}\n",
    "    for (i, fp1), (j, fp2) in combinations(enumerate(fingerprints), 2):\n",
    "        similarity = DataStructs.TanimotoSimilarity(fp1, fp2)\n",
    "        similarity_matrix[(i, j)] = similarity\n",
    "        print(f\"Tanimoto similarity between SMILES {i} and {j}: {similarity}\")\n",
    "\n",
    "    return similarity_matrix\n",
    "\n",
    "# Example usage\n",
    "\n",
    "similarity_matrix = compute_tanimoto_similarity_for_pairs(smiles_list)"
   ]
  },
  {
   "cell_type": "code",
   "execution_count": 52,
   "metadata": {},
   "outputs": [
    {
     "data": {
      "image/png": "[encoded data removed]",
      "text/plain": [
       "<IPython.core.display.Image object>"
      ]
     },
     "execution_count": 52,
     "metadata": {},
     "output_type": "execute_result"
    }
   ],
   "source": [
    "img = draw_list_smiles(smiles_list)\n",
    "img"
   ]
  }
 ],
 "metadata": {
  "kernelspec": {
   "display_name": "eigenmol",
   "language": "python",
   "name": "python3"
  },
  "language_info": {
   "codemirror_mode": {
    "name": "ipython",
    "version": 3
   },
   "file_extension": ".py",
   "mimetype": "text/x-python",
   "name": "python",
   "nbconvert_exporter": "python",
   "pygments_lexer": "ipython3",
   "version": "3.8.20"
  }
 },
 "nbformat": 4,
 "nbformat_minor": 2
}
