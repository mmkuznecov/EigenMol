{
 "cells": [
  {
   "cell_type": "code",
   "execution_count": 44,
   "metadata": {},
   "outputs": [],
   "source": [
    "import numpy as np\n",
    "from sklearn.feature_selection import mutual_info_regression\n",
    "import matplotlib.pyplot as plt\n",
    "import seaborn as sns"
   ]
  },
  {
   "cell_type": "markdown",
   "metadata": {},
   "source": [
    "## Experiment 2"
   ]
  },
  {
   "cell_type": "markdown",
   "metadata": {},
   "source": [
    "#### Test sample"
   ]
  },
  {
   "cell_type": "code",
   "execution_count": 45,
   "metadata": {},
   "outputs": [
    {
     "data": {
      "text/plain": [
       "(0.009172399340875784, 0.009542286485440627)"
      ]
     },
     "execution_count": 45,
     "metadata": {},
     "output_type": "execute_result"
    }
   ],
   "source": [
    "# Sample data (replace with your actual embeddings)\n",
    "# Let's assume `embedding_k` has shape (n_samples, k) and `embedding_l` has shape (n_samples, l)\n",
    "n_samples = 1000  # Number of samples\n",
    "k = 50            # Dimension of first embedding\n",
    "l = 30            # Dimension of second embedding\n",
    "\n",
    "# Random embeddings as an example\n",
    "embedding_k = np.random.rand(n_samples, k)\n",
    "embedding_l = np.random.rand(n_samples, l)\n",
    "target = np.random.rand(n_samples)\n",
    "\n",
    "mi_1 = mutual_info_regression(embedding_k, target)\n",
    "mi_2 = mutual_info_regression(embedding_l, target)\n",
    "\n",
    "np.mean(mi_1), np.mean(mi_2)\n"
   ]
  },
  {
   "cell_type": "markdown",
   "metadata": {},
   "source": [
    "### Actual experiment"
   ]
  },
  {
   "cell_type": "markdown",
   "metadata": {},
   "source": [
    "We'll use smiles to get both fingerprints and desciptors."
   ]
  },
  {
   "cell_type": "markdown",
   "metadata": {},
   "source": [
    "Generate fingerprints:"
   ]
  },
  {
   "cell_type": "code",
   "execution_count": 46,
   "metadata": {},
   "outputs": [],
   "source": [
    "from rdkit import Chem\n",
    "from rdkit.Chem import AllChem\n",
    "import numpy as np\n",
    "\n",
    "def get_rdk_fingerprints(smiles_list, maxPath = 15):\n",
    "    fingerprints = []\n",
    "    for smiles in smiles_list:\n",
    "        mol = Chem.MolFromSmiles(smiles)\n",
    "        if mol is not None:\n",
    "            fingerprint = AllChem.RDKFingerprint(mol, maxPath=maxPath)  # Use RDKFingerprint\n",
    "            fingerprints.append(np.array(fingerprint))\n",
    "    return np.array(fingerprints)"
   ]
  },
  {
   "cell_type": "markdown",
   "metadata": {},
   "source": [
    "Compute Descriptors:\n",
    "\n",
    "Илья сказал, что это репрезентативные дескрипторы"
   ]
  },
  {
   "cell_type": "code",
   "execution_count": 47,
   "metadata": {},
   "outputs": [],
   "source": [
    "from rdkit.Chem import Descriptors\n",
    "\n",
    "def get_logp_descriptors(smiles_list):\n",
    "    logp_values = []\n",
    "    for smiles in smiles_list:\n",
    "        mol = Chem.MolFromSmiles(smiles)\n",
    "        if mol is not None:\n",
    "            logp = Descriptors.MolLogP(mol)\n",
    "            logp_values.append(logp)\n",
    "    return np.array(logp_values)"
   ]
  },
  {
   "cell_type": "code",
   "execution_count": 48,
   "metadata": {},
   "outputs": [
    {
     "name": "stdout",
     "output_type": "stream",
     "text": [
      "Fingerprints shape: (400, 2048)\n"
     ]
    }
   ],
   "source": [
    "# Read SMILES from file\n",
    "with open('smiles.csv', 'r') as f:\n",
    "    smiles_list = [line.strip() for line in f]\n",
    "\n",
    "# Get RDKFingerprint fingerprints\n",
    "fingerprints = get_rdk_fingerprints(smiles_list)\n",
    "print(\"Fingerprints shape:\", fingerprints.shape)\n",
    "\n",
    "# Get logP descriptors\n",
    "logp_values = get_logp_descriptors(smiles_list)"
   ]
  },
  {
   "cell_type": "code",
   "execution_count": 49,
   "metadata": {},
   "outputs": [
    {
     "data": {
      "text/plain": [
       "(400,)"
      ]
     },
     "execution_count": 49,
     "metadata": {},
     "output_type": "execute_result"
    }
   ],
   "source": [
    "logp_values.shape"
   ]
  },
  {
   "cell_type": "markdown",
   "metadata": {},
   "source": [
    "Илья сказал нормально"
   ]
  },
  {
   "cell_type": "code",
   "execution_count": 50,
   "metadata": {},
   "outputs": [
    {
     "data": {
      "image/png": "[encoded data removed]",
      "text/plain": [
       "<Figure size 640x480 with 1 Axes>"
      ]
     },
     "metadata": {},
     "output_type": "display_data"
    }
   ],
   "source": [
    "plt.hist(logp_values, density=True)\n",
    "plt.show()"
   ]
  },
  {
   "cell_type": "markdown",
   "metadata": {},
   "source": [
    "Get the embeddings and calculate this thing:"
   ]
  },
  {
   "cell_type": "code",
   "execution_count": 51,
   "metadata": {},
   "outputs": [],
   "source": [
    "path_to_embeddings_npy = 'embeddings.npy'\n",
    "embeddings = np.load(path_to_embeddings_npy)\n",
    "mi_1 = mutual_info_regression(embeddings, logp_values)"
   ]
  },
  {
   "cell_type": "markdown",
   "metadata": {},
   "source": [
    "Calculate the same thing for fingerprints:"
   ]
  },
  {
   "cell_type": "code",
   "execution_count": 52,
   "metadata": {},
   "outputs": [],
   "source": [
    "mi_2 = mutual_info_regression(fingerprints, logp_values)"
   ]
  },
  {
   "cell_type": "markdown",
   "metadata": {},
   "source": [
    "Добавь своё сравнение"
   ]
  },
  {
   "cell_type": "code",
   "execution_count": 53,
   "metadata": {},
   "outputs": [
    {
     "data": {
      "text/plain": [
       "(1.400467184665673, 0.1926309279026978)"
      ]
     },
     "execution_count": 53,
     "metadata": {},
     "output_type": "execute_result"
    }
   ],
   "source": [
    "np.mean(mi_1), np.mean(mi_2)"
   ]
  },
  {
   "cell_type": "markdown",
   "metadata": {},
   "source": [
    "## Experiment 2"
   ]
  },
  {
   "cell_type": "code",
   "execution_count": 54,
   "metadata": {},
   "outputs": [],
   "source": [
    "from sklearn.neighbors import NearestNeighbors\n",
    "from scipy.special import digamma, gamma\n",
    "\n",
    "def estimate_entropy(X, k=5):\n",
    "    \"\"\"\n",
    "    Estimate entropy of a continuous random variable using k-NN method.\n",
    "    \n",
    "    Parameters:\n",
    "    X (np.ndarray): Data matrix of shape (n_samples, n_dimensions)\n",
    "    k (int): Number of nearest neighbors\n",
    "    \n",
    "    Returns:\n",
    "    float: Estimated entropy in nats\n",
    "    \"\"\"\n",
    "    n_samples = X.shape[0]\n",
    "    \n",
    "    # Find k-nearest neighbors\n",
    "    knn = NearestNeighbors(metric='euclidean', n_neighbors=k+1)\n",
    "    knn.fit(X)\n",
    "    distances = knn.kneighbors()[0]\n",
    "    distances = distances[:, -1]  # Get distance to k-th neighbor\n",
    "    \n",
    "    # Calculate entropy using KSG estimator\n",
    "    d = X.shape[1]  # dimensionality\n",
    "    volume_unit_ball = np.pi ** (d/2) / gamma(d/2 + 1)\n",
    "    entropy = (d * np.mean(np.log(distances)) + \n",
    "              np.log(volume_unit_ball) + digamma(n_samples) - digamma(k))\n",
    "    \n",
    "    return entropy\n",
    "\n",
    "def estimate_mi(X, Y, k=5):\n",
    "    \"\"\"\n",
    "    Estimate mutual information between two sets of embeddings using k-nearest neighbors.\n",
    "    \n",
    "    Parameters:\n",
    "    X (np.ndarray): First set of embeddings, shape (n_samples, k_dimensions)\n",
    "    Y (np.ndarray): Second set of embeddings, shape (n_samples, l_dimensions)\n",
    "    k (int): Number of nearest neighbors to use\n",
    "    \n",
    "    Returns:\n",
    "    float: Estimated mutual information in nats\n",
    "    \"\"\"\n",
    "    n_samples = X.shape[0]\n",
    "    \n",
    "    # Assert same number of samples\n",
    "    if n_samples != Y.shape[0]:\n",
    "        raise ValueError(\"X and Y must have same number of samples\")\n",
    "    \n",
    "    # Find k-nearest neighbors for joint space (X,Y)\n",
    "    xy = np.hstack([X, Y])\n",
    "    knn_xy = NearestNeighbors(metric='euclidean', n_neighbors=k+1)\n",
    "    knn_xy.fit(xy)\n",
    "    r_xy = knn_xy.kneighbors()[0]\n",
    "    r_xy = r_xy[:, -1]  # Get distance to k-th neighbor\n",
    "    \n",
    "    # Find k-nearest neighbors for X\n",
    "    knn_x = NearestNeighbors(metric='euclidean', n_neighbors=k+1)\n",
    "    knn_x.fit(X)\n",
    "    r_x = knn_x.kneighbors()[0]\n",
    "    r_x = r_x[:, -1]\n",
    "    \n",
    "    # Find k-nearest neighbors for Y\n",
    "    knn_y = NearestNeighbors(metric='euclidean', n_neighbors=k+1)\n",
    "    knn_y.fit(Y)\n",
    "    r_y = knn_y.kneighbors()[0]\n",
    "    r_y = r_y[:, -1]\n",
    "    \n",
    "    # Estimate mutual information\n",
    "    mi = (digamma(k) + digamma(n_samples) - \n",
    "          np.mean(digamma(r_x.size + 1) + digamma(r_y.size + 1)))\n",
    "    \n",
    "    return max(0, mi)  # MI should not be negative\n",
    "\n",
    "def estimate_nmi(X, Y, k=5, normalization='arithmetic'):\n",
    "    \"\"\"\n",
    "    Estimate normalized mutual information between two sets of embeddings.\n",
    "    \n",
    "    Parameters:\n",
    "    X (np.ndarray): First set of embeddings, shape (n_samples, k_dimensions)\n",
    "    Y (np.ndarray): Second set of embeddings, shape (n_samples, l_dimensions)\n",
    "    k (int): Number of nearest neighbors\n",
    "    normalization (str): Type of normalization:\n",
    "        'arithmetic': 2*MI(X,Y)/(H(X) + H(Y))\n",
    "        'geometric': MI(X,Y)/sqrt(H(X)*H(Y))\n",
    "        'min': MI(X,Y)/min(H(X),H(Y))\n",
    "        'max': MI(X,Y)/max(H(X),H(Y))\n",
    "    \n",
    "    Returns:\n",
    "    tuple: (nmi, mi, h_x, h_y) - normalized MI, raw MI, entropy of X, entropy of Y\n",
    "    \"\"\"\n",
    "    # Calculate mutual information\n",
    "    mi = estimate_mi(X, Y, k)\n",
    "    \n",
    "    # Calculate individual entropies\n",
    "    h_x = estimate_entropy(X, k)\n",
    "    h_y = estimate_entropy(Y, k)\n",
    "    \n",
    "    # Calculate normalized mutual information based on chosen method\n",
    "    if normalization == 'arithmetic':\n",
    "        nmi = 2 * mi / (h_x + h_y)\n",
    "    elif normalization == 'geometric':\n",
    "        nmi = mi / np.sqrt(h_x * h_y)\n",
    "    elif normalization == 'min':\n",
    "        nmi = mi / min(h_x, h_y)\n",
    "    elif normalization == 'max':\n",
    "        nmi = mi / max(h_x, h_y)\n",
    "    else:\n",
    "        raise ValueError(\"Unknown normalization method\")\n",
    "    \n",
    "    return nmi, mi, h_x, h_y"
   ]
  },
  {
   "cell_type": "markdown",
   "metadata": {},
   "source": [
    "### Test sample"
   ]
  },
  {
   "cell_type": "code",
   "execution_count": 55,
   "metadata": {},
   "outputs": [
    {
     "name": "stdout",
     "output_type": "stream",
     "text": [
      "\n",
      "Normalization method: arithmetic\n",
      "NMI: 0.0000\n",
      "MI: 0.0000 nats\n",
      "Entropy X: 229.3598 nats\n",
      "Entropy Y: 197.4027 nats\n",
      "\n",
      "Normalization method: geometric\n",
      "NMI: 0.0000\n",
      "MI: 0.0000 nats\n",
      "Entropy X: 229.3598 nats\n",
      "Entropy Y: 197.4027 nats\n",
      "\n",
      "Normalization method: min\n",
      "NMI: 0.0000\n",
      "MI: 0.0000 nats\n",
      "Entropy X: 229.3598 nats\n",
      "Entropy Y: 197.4027 nats\n",
      "\n",
      "Normalization method: max\n",
      "NMI: 0.0000\n",
      "MI: 0.0000 nats\n",
      "Entropy X: 229.3598 nats\n",
      "Entropy Y: 197.4027 nats\n",
      "\n",
      "Independent embeddings:\n",
      "NMI: 0.0000\n",
      "MI: 0.0000 nats\n"
     ]
    }
   ],
   "source": [
    "if __name__ == \"__main__\":\n",
    "    # Generate sample embeddings\n",
    "    np.random.seed(42)\n",
    "    n_samples = 1000\n",
    "    k_dim = 64\n",
    "    l_dim = 128\n",
    "    \n",
    "    # Create correlated embeddings for testing\n",
    "    base = np.random.randn(n_samples, k_dim)\n",
    "    noise = np.random.randn(n_samples, l_dim) * 0.1\n",
    "    X = base @ np.random.randn(k_dim, k_dim)  # First embedding\n",
    "    Y = np.hstack([base, noise])  # Second embedding (partially correlated)\n",
    "    \n",
    "    # Calculate normalized mutual information with different normalizations\n",
    "    for norm in ['arithmetic', 'geometric', 'min', 'max']:\n",
    "        nmi, mi, h_x, h_y = estimate_nmi(X, Y, k=5, normalization=norm)\n",
    "        print(f\"\\nNormalization method: {norm}\")\n",
    "        print(f\"NMI: {nmi:.4f}\")\n",
    "        print(f\"MI: {mi:.4f} nats\")\n",
    "        print(f\"Entropy X: {h_x:.4f} nats\")\n",
    "        print(f\"Entropy Y: {h_y:.4f} nats\")\n",
    "    \n",
    "    # Test with independent embeddings\n",
    "    X_ind = np.random.randn(n_samples, k_dim)\n",
    "    Y_ind = np.random.randn(n_samples, l_dim)\n",
    "    nmi_ind, mi_ind, h_x_ind, h_y_ind = estimate_nmi(X_ind, Y_ind, k=5)\n",
    "    print(\"\\nIndependent embeddings:\")\n",
    "    print(f\"NMI: {nmi_ind:.4f}\")\n",
    "    print(f\"MI: {mi_ind:.4f} nats\")"
   ]
  },
  {
   "cell_type": "markdown",
   "metadata": {},
   "source": [
    "Вот тут какая-то хуйня про Unit Ball и что для высоких размерностей он вызывает Overflow, поэтому фикс ниже."
   ]
  },
  {
   "cell_type": "code",
   "execution_count": 56,
   "metadata": {},
   "outputs": [
    {
     "ename": "OverflowError",
     "evalue": "(34, 'Numerical result out of range')",
     "output_type": "error",
     "traceback": [
      "\u001b[0;31m---------------------------------------------------------------------------\u001b[0m",
      "\u001b[0;31mOverflowError\u001b[0m                             Traceback (most recent call last)",
      "Cell \u001b[0;32mIn[56], line 6\u001b[0m\n\u001b[1;32m      4\u001b[0m Y \u001b[38;5;241m=\u001b[39m fingerprints\n\u001b[1;32m      5\u001b[0m \u001b[38;5;28;01mfor\u001b[39;00m norm \u001b[38;5;129;01min\u001b[39;00m [\u001b[38;5;124m'\u001b[39m\u001b[38;5;124marithmetic\u001b[39m\u001b[38;5;124m'\u001b[39m, \u001b[38;5;124m'\u001b[39m\u001b[38;5;124mgeometric\u001b[39m\u001b[38;5;124m'\u001b[39m, \u001b[38;5;124m'\u001b[39m\u001b[38;5;124mmin\u001b[39m\u001b[38;5;124m'\u001b[39m, \u001b[38;5;124m'\u001b[39m\u001b[38;5;124mmax\u001b[39m\u001b[38;5;124m'\u001b[39m]:\n\u001b[0;32m----> 6\u001b[0m     nmi, mi, h_x, h_y \u001b[38;5;241m=\u001b[39m \u001b[43mestimate_nmi\u001b[49m\u001b[43m(\u001b[49m\u001b[43mX\u001b[49m\u001b[43m,\u001b[49m\u001b[43m \u001b[49m\u001b[43mY\u001b[49m\u001b[43m,\u001b[49m\u001b[43m \u001b[49m\u001b[43mk\u001b[49m\u001b[38;5;241;43m=\u001b[39;49m\u001b[38;5;241;43m5\u001b[39;49m\u001b[43m,\u001b[49m\u001b[43m \u001b[49m\u001b[43mnormalization\u001b[49m\u001b[38;5;241;43m=\u001b[39;49m\u001b[43mnorm\u001b[49m\u001b[43m)\u001b[49m\n\u001b[1;32m      7\u001b[0m     \u001b[38;5;28mprint\u001b[39m(\u001b[38;5;124mf\u001b[39m\u001b[38;5;124m\"\u001b[39m\u001b[38;5;130;01m\\n\u001b[39;00m\u001b[38;5;124mNormalization method: \u001b[39m\u001b[38;5;132;01m{\u001b[39;00mnorm\u001b[38;5;132;01m}\u001b[39;00m\u001b[38;5;124m\"\u001b[39m)\n\u001b[1;32m      8\u001b[0m     \u001b[38;5;28mprint\u001b[39m(\u001b[38;5;124mf\u001b[39m\u001b[38;5;124m\"\u001b[39m\u001b[38;5;124mNMI: \u001b[39m\u001b[38;5;132;01m{\u001b[39;00mnmi\u001b[38;5;132;01m:\u001b[39;00m\u001b[38;5;124m.4f\u001b[39m\u001b[38;5;132;01m}\u001b[39;00m\u001b[38;5;124m\"\u001b[39m)\n",
      "Cell \u001b[0;32mIn[54], line 96\u001b[0m, in \u001b[0;36mestimate_nmi\u001b[0;34m(X, Y, k, normalization)\u001b[0m\n\u001b[1;32m     94\u001b[0m \u001b[38;5;66;03m# Calculate individual entropies\u001b[39;00m\n\u001b[1;32m     95\u001b[0m h_x \u001b[38;5;241m=\u001b[39m estimate_entropy(X, k)\n\u001b[0;32m---> 96\u001b[0m h_y \u001b[38;5;241m=\u001b[39m \u001b[43mestimate_entropy\u001b[49m\u001b[43m(\u001b[49m\u001b[43mY\u001b[49m\u001b[43m,\u001b[49m\u001b[43m \u001b[49m\u001b[43mk\u001b[49m\u001b[43m)\u001b[49m\n\u001b[1;32m     98\u001b[0m \u001b[38;5;66;03m# Calculate normalized mutual information based on chosen method\u001b[39;00m\n\u001b[1;32m     99\u001b[0m \u001b[38;5;28;01mif\u001b[39;00m normalization \u001b[38;5;241m==\u001b[39m \u001b[38;5;124m'\u001b[39m\u001b[38;5;124marithmetic\u001b[39m\u001b[38;5;124m'\u001b[39m:\n",
      "Cell \u001b[0;32mIn[54], line 25\u001b[0m, in \u001b[0;36mestimate_entropy\u001b[0;34m(X, k)\u001b[0m\n\u001b[1;32m     23\u001b[0m \u001b[38;5;66;03m# Calculate entropy using KSG estimator\u001b[39;00m\n\u001b[1;32m     24\u001b[0m d \u001b[38;5;241m=\u001b[39m X\u001b[38;5;241m.\u001b[39mshape[\u001b[38;5;241m1\u001b[39m]  \u001b[38;5;66;03m# dimensionality\u001b[39;00m\n\u001b[0;32m---> 25\u001b[0m volume_unit_ball \u001b[38;5;241m=\u001b[39m \u001b[43mnp\u001b[49m\u001b[38;5;241;43m.\u001b[39;49m\u001b[43mpi\u001b[49m\u001b[43m \u001b[49m\u001b[38;5;241;43m*\u001b[39;49m\u001b[38;5;241;43m*\u001b[39;49m\u001b[43m \u001b[49m\u001b[43m(\u001b[49m\u001b[43md\u001b[49m\u001b[38;5;241;43m/\u001b[39;49m\u001b[38;5;241;43m2\u001b[39;49m\u001b[43m)\u001b[49m \u001b[38;5;241m/\u001b[39m gamma(d\u001b[38;5;241m/\u001b[39m\u001b[38;5;241m2\u001b[39m \u001b[38;5;241m+\u001b[39m \u001b[38;5;241m1\u001b[39m)\n\u001b[1;32m     26\u001b[0m entropy \u001b[38;5;241m=\u001b[39m (d \u001b[38;5;241m*\u001b[39m np\u001b[38;5;241m.\u001b[39mmean(np\u001b[38;5;241m.\u001b[39mlog(distances)) \u001b[38;5;241m+\u001b[39m \n\u001b[1;32m     27\u001b[0m           np\u001b[38;5;241m.\u001b[39mlog(volume_unit_ball) \u001b[38;5;241m+\u001b[39m digamma(n_samples) \u001b[38;5;241m-\u001b[39m digamma(k))\n\u001b[1;32m     29\u001b[0m \u001b[38;5;28;01mreturn\u001b[39;00m entropy\n",
      "\u001b[0;31mOverflowError\u001b[0m: (34, 'Numerical result out of range')"
     ]
    }
   ],
   "source": [
    "# Calculate normalized mutual information with different normalizations\n",
    "np.random.seed(42)\n",
    "X = embeddings\n",
    "Y = fingerprints\n",
    "for norm in ['arithmetic', 'geometric', 'min', 'max']:\n",
    "    nmi, mi, h_x, h_y = estimate_nmi(X, Y, k=5, normalization=norm)\n",
    "    print(f\"\\nNormalization method: {norm}\")\n",
    "    print(f\"NMI: {nmi:.4f}\")\n",
    "    print(f\"MI: {mi:.4f} nats\")\n",
    "    print(f\"Entropy X: {h_x:.4f} nats\")\n",
    "    print(f\"Entropy Y: {h_y:.4f} nats\")"
   ]
  },
  {
   "cell_type": "markdown",
   "metadata": {},
   "source": [
    "С этой штукой какие-то значения есть, но всё равно ошибки. Короче я не уверен, что они нормик. Фикс ниже."
   ]
  },
  {
   "cell_type": "code",
   "execution_count": null,
   "metadata": {},
   "outputs": [
    {
     "name": "stdout",
     "output_type": "stream",
     "text": [
      "\n",
      "Normalization method: arithmetic\n",
      "NMI: nan\n",
      "MI: nan nats\n",
      "Entropy X: 117.9666 nats\n",
      "Entropy Y: -inf nats\n"
     ]
    },
    {
     "name": "stderr",
     "output_type": "stream",
     "text": [
      "/tmp/ipykernel_514110/1855533866.py:17: RuntimeWarning: divide by zero encountered in log\n",
      "  entropy = (d * np.mean(np.log(distances)) +\n",
      "/tmp/ipykernel_514110/1855533866.py:18: RuntimeWarning: divide by zero encountered in log\n",
      "  np.log(volume_unit_ball) + digamma(n_samples) - digamma(k))\n",
      "/tmp/ipykernel_514110/1855533866.py:18: RuntimeWarning: divide by zero encountered in log\n",
      "  np.log(volume_unit_ball) + digamma(n_samples) - digamma(k))\n",
      "/tmp/ipykernel_514110/1855533866.py:35: RuntimeWarning: invalid value encountered in double_scalars\n",
      "  mi = h_x + h_y - h_xy\n"
     ]
    }
   ],
   "source": [
    "def estimate_entropy(X, k):\n",
    "    \"\"\"\n",
    "    Estimate the entropy of a dataset using the KSG estimator.\n",
    "    \"\"\"\n",
    "    n_samples, d = X.shape  # Number of samples and dimensionality\n",
    "\n",
    "    # Find k-nearest neighbors\n",
    "    nbrs = NearestNeighbors(n_neighbors=k, algorithm='auto').fit(X)\n",
    "    distances, _ = nbrs.kneighbors(X)\n",
    "    distances = distances[:, -1]  # Get the distance to the k-th neighbor\n",
    "\n",
    "    # Calculate the volume of the unit ball in high dimensions\n",
    "    # Use an asymptotic approximation for high-dimensional data\n",
    "    volume_unit_ball = (2 * np.pi * np.e / d) ** (d / 2)\n",
    "\n",
    "    # Calculate entropy using KSG estimator\n",
    "    entropy = (d * np.mean(np.log(distances)) + \n",
    "               np.log(volume_unit_ball) + digamma(n_samples) - digamma(k))\n",
    "\n",
    "    return entropy\n",
    "\n",
    "def estimate_nmi(X, Y, k, normalization='arithmetic'):\n",
    "    \"\"\"\n",
    "    Estimate normalized mutual information between two datasets.\n",
    "    \"\"\"\n",
    "    # Calculate individual entropies\n",
    "    h_x = estimate_entropy(X, k)\n",
    "    h_y = estimate_entropy(Y, k)\n",
    "\n",
    "    # Calculate joint entropy\n",
    "    XY = np.hstack((X, Y))\n",
    "    h_xy = estimate_entropy(XY, k)\n",
    "\n",
    "    # Calculate mutual information\n",
    "    mi = h_x + h_y - h_xy\n",
    "\n",
    "    # Calculate normalized mutual information based on chosen method\n",
    "    if normalization == 'arithmetic':\n",
    "        nmi = mi / ((h_x + h_y) / 2)\n",
    "    elif normalization == 'geometric':\n",
    "        nmi = mi / np.sqrt(h_x * h_y)\n",
    "    elif normalization == 'min':\n",
    "        nmi = mi / min(h_x, h_y)\n",
    "    elif normalization == 'max':\n",
    "        nmi = mi / max(h_x, h_y)\n",
    "    else:\n",
    "        raise ValueError(\"Invalid normalization method. Choose from 'arithmetic', 'geometric', 'min', 'max'.\")\n",
    "\n",
    "    return nmi, mi, h_x, h_y\n",
    "\n",
    "# Example usage\n",
    "np.random.seed(42)\n",
    "X = embeddings  # Replace with your embeddings\n",
    "Y = fingerprints  # Replace with your fingerprints\n",
    "\n",
    "for norm in ['arithmetic', 'geometric', 'min', 'max']:\n",
    "    nmi, mi, h_x, h_y = estimate_nmi(X, Y, k=5, normalization=norm)\n",
    "    print(f\"\\nNormalization method: {norm}\")\n",
    "    print(f\"NMI: {nmi:.4f}\")\n",
    "    print(f\"MI: {mi:.4f} nats\")\n",
    "    print(f\"Entropy X: {h_x:.4f} nats\")\n",
    "    print(f\"Entropy Y: {h_y:.4f} nats\")"
   ]
  },
  {
   "cell_type": "markdown",
   "metadata": {},
   "source": [
    "Юзаем PCA для фингерпринтов"
   ]
  },
  {
   "cell_type": "code",
   "execution_count": null,
   "metadata": {},
   "outputs": [
    {
     "name": "stdout",
     "output_type": "stream",
     "text": [
      "PCA fingerprints shape: (400, 128)\n"
     ]
    }
   ],
   "source": [
    "from rdkit import Chem\n",
    "from rdkit.Chem import AllChem\n",
    "import numpy as np\n",
    "from sklearn.decomposition import PCA\n",
    "\n",
    "def get_pca_fingerprints(smiles_list, n_components=500):\n",
    "    \"\"\"\n",
    "    Generate PCA-reduced fingerprints for a list of SMILES strings.\n",
    "    \"\"\"\n",
    "    fingerprints = []\n",
    "    for smiles in smiles_list:\n",
    "        mol = Chem.MolFromSmiles(smiles)\n",
    "        if mol is not None:\n",
    "            # Generate the full RDKFingerprint\n",
    "            full_fp = AllChem.RDKFingerprint(mol)\n",
    "            # Convert the fingerprint to a bit vector\n",
    "            bit_vector = np.array(full_fp)\n",
    "            fingerprints.append(bit_vector)\n",
    "    \n",
    "    # Apply PCA to reduce dimensionality\n",
    "    pca = PCA(n_components=n_components)\n",
    "    reduced_fingerprints = pca.fit_transform(fingerprints)\n",
    "    return reduced_fingerprints\n",
    "\n",
    "# Example usage\n",
    "with open('smiles.csv', 'r') as f:\n",
    "    smiles_list = [line.strip() for line in f]\n",
    "\n",
    "# Get PCA-reduced fingerprints\n",
    "pca_fingerprints = get_pca_fingerprints(smiles_list, n_components=128)\n",
    "print(\"PCA fingerprints shape:\", pca_fingerprints.shape)"
   ]
  },
  {
   "cell_type": "markdown",
   "metadata": {},
   "source": [
    "Функция вызвалась без ошибок."
   ]
  },
  {
   "cell_type": "code",
   "execution_count": null,
   "metadata": {},
   "outputs": [
    {
     "name": "stdout",
     "output_type": "stream",
     "text": [
      "\n",
      "Normalization method: arithmetic\n",
      "NMI: -1.6146\n",
      "MI: -206.2212 nats\n",
      "Entropy X: 117.9666 nats\n",
      "Entropy Y: 137.4813 nats\n",
      "\n",
      "Normalization method: geometric\n",
      "NMI: -1.6193\n",
      "MI: -206.2212 nats\n",
      "Entropy X: 117.9666 nats\n",
      "Entropy Y: 137.4813 nats\n",
      "\n",
      "Normalization method: min\n",
      "NMI: -1.7481\n",
      "MI: -206.2212 nats\n",
      "Entropy X: 117.9666 nats\n",
      "Entropy Y: 137.4813 nats\n",
      "\n",
      "Normalization method: max\n",
      "NMI: -1.5000\n",
      "MI: -206.2212 nats\n",
      "Entropy X: 117.9666 nats\n",
      "Entropy Y: 137.4813 nats\n"
     ]
    }
   ],
   "source": [
    "# Example usage\n",
    "np.random.seed(42)\n",
    "X = embeddings  # Replace with your embeddings\n",
    "Y = pca_fingerprints  # Replace with your fingerprints\n",
    "\n",
    "for norm in ['arithmetic', 'geometric', 'min', 'max']:\n",
    "    nmi, mi, h_x, h_y = estimate_nmi(X, Y, k=5, normalization=norm)\n",
    "    print(f\"\\nNormalization method: {norm}\")\n",
    "    print(f\"NMI: {nmi:.4f}\")\n",
    "    print(f\"MI: {mi:.4f} nats\")\n",
    "    print(f\"Entropy X: {h_x:.4f} nats\")\n",
    "    print(f\"Entropy Y: {h_y:.4f} nats\")"
   ]
  }
 ],
 "metadata": {
  "kernelspec": {
   "display_name": "eigenmol",
   "language": "python",
   "name": "python3"
  },
  "language_info": {
   "codemirror_mode": {
    "name": "ipython",
    "version": 3
   },
   "file_extension": ".py",
   "mimetype": "text/x-python",
   "name": "python",
   "nbconvert_exporter": "python",
   "pygments_lexer": "ipython3",
   "version": "3.8.20"
  }
 },
 "nbformat": 4,
 "nbformat_minor": 2
}
